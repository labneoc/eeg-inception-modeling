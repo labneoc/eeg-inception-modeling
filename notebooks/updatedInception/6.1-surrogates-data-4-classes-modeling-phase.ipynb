{
 "cells": [
  {
   "cell_type": "markdown",
   "id": "64843913",
   "metadata": {},
   "source": [
    "# Feature Extraction Phase\n",
    "In this notebook I'm running the feature extraction phase using an Inception Convolutional Neural Network as the feature extraction model trained with the pre-processed data as well as optimized with a Bayesian Optimization process.\n",
    "\n",
    "**Author**: Arthur G."
   ]
  },
  {
   "cell_type": "markdown",
   "id": "268fbc8a",
   "metadata": {},
   "source": [
    "## Loading Dependencies\n",
    "Loading and setting up all the dependencies for this notebook."
   ]
  },
  {
   "cell_type": "code",
   "execution_count": 1,
   "id": "bbe82203",
   "metadata": {},
   "outputs": [
    {
     "name": "stderr",
     "output_type": "stream",
     "text": [
      "2023-04-28 09:44:33.866869: I tensorflow/core/platform/cpu_feature_guard.cc:193] This TensorFlow binary is optimized with oneAPI Deep Neural Network Library (oneDNN) to use the following CPU instructions in performance-critical operations:  AVX2 AVX512F AVX512_VNNI FMA\n",
      "To enable them in other operations, rebuild TensorFlow with the appropriate compiler flags.\n",
      "2023-04-28 09:44:33.954534: I tensorflow/core/util/util.cc:169] oneDNN custom operations are on. You may see slightly different numerical results due to floating-point round-off errors from different computation orders. To turn them off, set the environment variable `TF_ENABLE_ONEDNN_OPTS=0`.\n",
      "2023-04-28 09:44:33.957369: W tensorflow/stream_executor/platform/default/dso_loader.cc:64] Could not load dynamic library 'libcudart.so.11.0'; dlerror: libcudart.so.11.0: cannot open shared object file: No such file or directory\n",
      "2023-04-28 09:44:33.957377: I tensorflow/stream_executor/cuda/cudart_stub.cc:29] Ignore above cudart dlerror if you do not have a GPU set up on your machine.\n",
      "2023-04-28 09:44:33.974514: E tensorflow/stream_executor/cuda/cuda_blas.cc:2981] Unable to register cuBLAS factory: Attempting to register factory for plugin cuBLAS when one has already been registered\n",
      "2023-04-28 09:44:34.350156: W tensorflow/stream_executor/platform/default/dso_loader.cc:64] Could not load dynamic library 'libnvinfer.so.7'; dlerror: libnvinfer.so.7: cannot open shared object file: No such file or directory\n",
      "2023-04-28 09:44:34.350224: W tensorflow/stream_executor/platform/default/dso_loader.cc:64] Could not load dynamic library 'libnvinfer_plugin.so.7'; dlerror: libnvinfer_plugin.so.7: cannot open shared object file: No such file or directory\n",
      "2023-04-28 09:44:34.350229: W tensorflow/compiler/tf2tensorrt/utils/py_utils.cc:38] TF-TRT Warning: Cannot dlopen some TensorRT libraries. If you would like to use Nvidia GPU with TensorRT, please make sure the missing libraries mentioned above are installed properly.\n"
     ]
    }
   ],
   "source": [
    "# libs\n",
    "import os\n",
    "import time\n",
    "import warnings\n",
    "\n",
    "import numpy as np\n",
    "import pandas as pd\n",
    "import tensorflow as tf\n",
    "from pycaret.classification import *\n",
    "from keras_tuner import HyperModel, Objective\n",
    "from keras_tuner.tuners import BayesianOptimization\n",
    "from sklearn.model_selection import train_test_split\n",
    "from sklearn.pipeline import Pipeline\n",
    "from sklearn.datasets import make_classification\n",
    "from sklearn.metrics import classification_report\n",
    "from sklearn import metrics\n",
    "from tensorflow.keras.callbacks import EarlyStopping\n",
    "from tensorflow.keras.callbacks import ReduceLROnPlateau\n",
    "from tensorflow.keras.callbacks import ModelCheckpoint\n",
    "\n",
    "# settings\n",
    "seed = np.random.seed(42)\n",
    "warnings.filterwarnings(\"ignore\")"
   ]
  },
  {
   "cell_type": "markdown",
   "id": "df050263",
   "metadata": {},
   "source": [
    "## Helper Functions\n",
    "A set of helper functions and classes for the automation of model optimization."
   ]
  },
  {
   "cell_type": "code",
   "execution_count": 2,
   "id": "fd044fa3",
   "metadata": {},
   "outputs": [],
   "source": [
    "class InceptionHyperModel(HyperModel):\n",
    "    \"\"\"Builds the base Inception model for dynamic optimization.\"\"\"\n",
    "    \n",
    "    def build(self, hp):\n",
    "        \"\"\"Initiate the model before the bayesian process gets started.\"\"\"\n",
    "        input_tensor = tf.keras.layers.Input(shape=(1, 300, 20)) # era 1,300,1\n",
    "\n",
    "        \n",
    "        # bottleneck layer\n",
    "        x = tf.keras.layers.Conv2D(\n",
    "                filters=hp.Int(\"n_filters_1_bn\", min_value=16, max_value=64, step=16), \n",
    "                kernel_size=(1, 1), \n",
    "                strides=1, \n",
    "                padding='same', \n",
    "                activation='relu'\n",
    "        )(input_tensor)\n",
    "        x = tf.keras.layers.Conv2D(\n",
    "                filters=hp.Int(\"n_filters_2_bn\", min_value=16, max_value=64, step=16), \n",
    "                kernel_size=hp.Int(\"kernel_size_bn\", min_value=2, max_value=4, step=1), \n",
    "                strides=1, \n",
    "                padding='same', \n",
    "                activation='relu'\n",
    "        )(x)\n",
    "        x = tf.keras.layers.Conv2D(\n",
    "                filters=hp.Int(\"n_filters_3_bn\", min_value=16, max_value=64, step=16), \n",
    "                kernel_size=(1, 1), \n",
    "                strides=1, \n",
    "                padding='same', \n",
    "                activation='relu'\n",
    "        )(x)\n",
    "        x = tf.keras.layers.Dropout(\n",
    "                hp.Choice(\"dropout_rate_bn\", values=[0.05, 0.5], default=0.5)\n",
    "        )(x)\n",
    "        \n",
    "\n",
    "        # dynamic efficient inception blocks\n",
    "        for i in range(hp.Int(\"n_incep_blocks\", min_value=2, max_value=4, step=1)):\n",
    "            x = tf.keras.layers.Conv2D(\n",
    "                    filters=hp.Int(\"n_filters_1_ib\", min_value=16, max_value=64, step=16), \n",
    "                    kernel_size=(1, 1), \n",
    "                    padding=\"same\", \n",
    "                    activation=\"relu\"\n",
    "            )(x)\n",
    "            x = tf.keras.layers.Conv2D(\n",
    "                    filters=hp.Int(\"n_filters_2_ib\", min_value=16, max_value=64, step=16), \n",
    "                    kernel_size=(1, 1), \n",
    "                    padding=\"same\", \n",
    "                    activation=\"relu\"\n",
    "            )(x)\n",
    "            x = tf.keras.layers.Conv2D(\n",
    "                    filters=hp.Int(\"n_filters_3_ib\", min_value=16, max_value=64, step=16), \n",
    "                    kernel_size=(3, 3), \n",
    "                    padding=\"same\", \n",
    "                    activation=\"relu\"\n",
    "            )(x)\n",
    "            x = tf.keras.layers.Conv2D(\n",
    "                    filters=hp.Int(\"n_filters_4_ib\", min_value=16, max_value=64, step=16), \n",
    "                    kernel_size=(1, 1), \n",
    "                    padding=\"same\", \n",
    "                    activation=\"relu\"\n",
    "            )(x)\n",
    "            x = tf.keras.layers.Conv2D(\n",
    "                    filters=hp.Int(\"n_filters_5_ib\", min_value=16, max_value=64, step=16), \n",
    "                    kernel_size=(5, 5), \n",
    "                    padding=\"same\", \n",
    "                    activation=\"relu\"\n",
    "            )(x)\n",
    "            x = tf.keras.layers.MaxPooling2D(\n",
    "                    pool_size=(3, 3), \n",
    "                    strides=(1, 1), \n",
    "                    padding='same'\n",
    "            )(x)\n",
    "            x = tf.keras.layers.Conv2D(\n",
    "                filters=hp.Int(\"n_filters_6_ib\", min_value=16, max_value=64, step=16), \n",
    "                kernel_size=(1, 1), \n",
    "                padding=\"same\", \n",
    "                activation=\"relu\"\n",
    "            )(x)\n",
    "        \n",
    "\n",
    "        # fully connected layer\n",
    "        x = tf.keras.layers.GlobalAveragePooling2D()(x)\n",
    "        \n",
    "        for i in range(hp.Int(\"n_fc_blocks\", min_value=2, max_value=4, step=1)):\n",
    "            x = tf.keras.layers.Dense(\n",
    "                    units=hp.Int(\"n_dense_nodes_1_fc\", min_value=32, max_value=256, step=32), \n",
    "                    activation='relu'\n",
    "            )(x)\n",
    "            x = tf.keras.layers.Dropout(\n",
    "                    hp.Choice(\"dropout_rate_fc\", values=[0.05, 0.5], default=0.5)\n",
    "            )(x)\n",
    "            x = tf.keras.layers.Dense(\n",
    "                    units=hp.Int(\n",
    "                        \"n_dense_nodes_2_fc\", min_value=32, max_value=256, step=32) \\\n",
    "                        // hp.Int(\"dense_nodes_div\", min_value=2, max_value=8, step=2), \n",
    "                        activation='relu'\n",
    "            )(x)\n",
    "        \n",
    "        output_tensor = tf.keras.layers.Dense(\n",
    "            4, \n",
    "            activation='softmax'\n",
    "        )(x)\n",
    "        \n",
    "\n",
    "        # model compilation\n",
    "        model = tf.keras.Model(inputs=input_tensor, outputs=output_tensor)\n",
    "        model.compile(\n",
    "            loss='sparse_categorical_crossentropy',\n",
    "            metrics=['accuracy'],\n",
    "            optimizer=hp.Choice(\n",
    "                \"optimizer\", \n",
    "                values=[\n",
    "                    \"sgd\", \"rmsprop\", \"adam\", \n",
    "                    \"adadelta\", \"adagrad\", \n",
    "                    \"adamax\", \"nadam\"\n",
    "                ], default=\"adam\"\n",
    "            )\n",
    "        )\n",
    "        \n",
    "        return model\n",
    "    \n",
    "\n",
    "def get_features_extracted(model, final_layer: str, sample: np.ndarray):\n",
    "    \"\"\"\n",
    "    This function extracts outputs from a given layer\n",
    "    name.\n",
    "    \"\"\"\n",
    "    sample = np.expand_dims(sample, axis=0)\n",
    "    output = np.array(\n",
    "        tf.keras.Model(inputs=model.inputs, outputs=model.get_layer(final_layer).output)(sample)\n",
    "    )\n",
    "    \n",
    "    return output\n"
   ]
  },
  {
   "cell_type": "markdown",
   "id": "f890626c",
   "metadata": {},
   "source": [
    "## Feature Extraction Pipeline\n",
    "Building the feature extraction pipeline using an Inception Convolutional Neural Network."
   ]
  },
  {
   "cell_type": "markdown",
   "id": "6de6af1d",
   "metadata": {},
   "source": [
    "Loading and preparing the DCE-based dataset."
   ]
  },
  {
   "cell_type": "code",
   "execution_count": 3,
   "id": "07063346",
   "metadata": {},
   "outputs": [
    {
     "name": "stdout",
     "output_type": "stream",
     "text": [
      "Original data shape: (3240000, 20)\n",
      "Reshaped data shape: (10800, 1, 300, 20)\n",
      "Original targets shape: (10800,)\n"
     ]
    }
   ],
   "source": [
    "# loading data and targets\n",
    "data = np.loadtxt(os.path.join(\"..\",\"..\", \"data\", \"processed\", \"surrogate_data.csv\"), delimiter=',')\n",
    "targets = np.loadtxt(os.path.join(\"..\",\"..\", \"data\", \"processed\", \"EEG_filt_first_8_electrodes_targets.csv\"), delimiter=',')\n",
    "\n",
    "# encoding targets (from string to int)\n",
    "targets[targets == 0] = 0\n",
    "targets[targets == 1] = 1 # 19494 subjects of this class\n",
    "targets[targets == 2] = 2\n",
    "targets[targets == 3] = 3 # 11286 subjects of this class\n",
    "targets = targets.astype(int)\n",
    "\n",
    "print(f\"Original data shape: {data.shape}\")\n",
    "data_reshape = data.reshape(10800, 1,300, 20) \n",
    "\n",
    "print(f\"Reshaped data shape: {data_reshape.shape}\")\n",
    "print(f\"Original targets shape: {targets.shape}\")"
   ]
  },
  {
   "cell_type": "code",
   "execution_count": 4,
   "id": "02a58a75",
   "metadata": {},
   "outputs": [
    {
     "name": "stdout",
     "output_type": "stream",
     "text": [
      "data: -3.93409605554283, data_reshape: -3.93409605554283\n"
     ]
    },
    {
     "data": {
      "text/plain": [
       "(10800, 1, 300, 20)"
      ]
     },
     "execution_count": 4,
     "metadata": {},
     "output_type": "execute_result"
    }
   ],
   "source": [
    "print(f\"data: {data[3,1]}, data_reshape: {data_reshape[0,0,3,1]}\")\n",
    "data_reshape.shape"
   ]
  },
  {
   "cell_type": "markdown",
   "id": "1c2552d6",
   "metadata": {},
   "source": [
    "### Train-Test-Split\n",
    "Splitting DCE-based dataset into train/holdout sets."
   ]
  },
  {
   "cell_type": "code",
   "execution_count": 5,
   "id": "17c0a3d1",
   "metadata": {},
   "outputs": [
    {
     "name": "stdout",
     "output_type": "stream",
     "text": [
      "Original data train set: (8640, 1, 300, 20)\n",
      "Holdout data test set: (2160, 1, 300, 20)\n"
     ]
    }
   ],
   "source": [
    "x_train, x_holdout, y_train, y_holdout = train_test_split(\n",
    "    data_reshape,\n",
    "    targets,\n",
    "    test_size=0.2,\n",
    "    shuffle=True,\n",
    "    random_state=seed\n",
    ")\n",
    "\n",
    "print(f\"Original data train set: {x_train.shape}\")\n",
    "print(f\"Holdout data test set: {x_holdout.shape}\")"
   ]
  },
  {
   "cell_type": "markdown",
   "id": "df08685d",
   "metadata": {},
   "source": [
    "### Architecture Optimization\n",
    "Building the optimizable iCNN skeleton."
   ]
  },
  {
   "cell_type": "code",
   "execution_count": 6,
   "id": "3a537d27",
   "metadata": {},
   "outputs": [],
   "source": [
    "# loading the Inception skeleton\n",
    "inception_hyper_model = InceptionHyperModel()"
   ]
  },
  {
   "cell_type": "markdown",
   "id": "82b0de67",
   "metadata": {},
   "source": [
    "Setting up the architecture tuner."
   ]
  },
  {
   "cell_type": "code",
   "execution_count": 7,
   "id": "a2ccd29a",
   "metadata": {},
   "outputs": [
    {
     "name": "stderr",
     "output_type": "stream",
     "text": [
      "2023-04-28 09:45:25.861869: I tensorflow/stream_executor/cuda/cuda_gpu_executor.cc:966] could not open file to read NUMA node: /sys/bus/pci/devices/0000:01:00.0/numa_node\n",
      "Your kernel may have been built without NUMA support.\n",
      "2023-04-28 09:45:25.861983: W tensorflow/stream_executor/platform/default/dso_loader.cc:64] Could not load dynamic library 'libcudart.so.11.0'; dlerror: libcudart.so.11.0: cannot open shared object file: No such file or directory\n",
      "2023-04-28 09:45:25.862029: W tensorflow/stream_executor/platform/default/dso_loader.cc:64] Could not load dynamic library 'libcublas.so.11'; dlerror: libcublas.so.11: cannot open shared object file: No such file or directory\n",
      "2023-04-28 09:45:25.862061: W tensorflow/stream_executor/platform/default/dso_loader.cc:64] Could not load dynamic library 'libcublasLt.so.11'; dlerror: libcublasLt.so.11: cannot open shared object file: No such file or directory\n",
      "2023-04-28 09:45:25.862092: W tensorflow/stream_executor/platform/default/dso_loader.cc:64] Could not load dynamic library 'libcufft.so.10'; dlerror: libcufft.so.10: cannot open shared object file: No such file or directory\n",
      "2023-04-28 09:45:25.862122: W tensorflow/stream_executor/platform/default/dso_loader.cc:64] Could not load dynamic library 'libcurand.so.10'; dlerror: libcurand.so.10: cannot open shared object file: No such file or directory\n",
      "2023-04-28 09:45:25.862152: W tensorflow/stream_executor/platform/default/dso_loader.cc:64] Could not load dynamic library 'libcusolver.so.11'; dlerror: libcusolver.so.11: cannot open shared object file: No such file or directory\n",
      "2023-04-28 09:45:25.862182: W tensorflow/stream_executor/platform/default/dso_loader.cc:64] Could not load dynamic library 'libcusparse.so.11'; dlerror: libcusparse.so.11: cannot open shared object file: No such file or directory\n",
      "2023-04-28 09:45:25.862212: W tensorflow/stream_executor/platform/default/dso_loader.cc:64] Could not load dynamic library 'libcudnn.so.8'; dlerror: libcudnn.so.8: cannot open shared object file: No such file or directory\n",
      "2023-04-28 09:45:25.862218: W tensorflow/core/common_runtime/gpu/gpu_device.cc:1934] Cannot dlopen some GPU libraries. Please make sure the missing libraries mentioned above are installed properly if you would like to use GPU. Follow the guide at https://www.tensorflow.org/install/gpu for how to download and setup the required libraries for your platform.\n",
      "Skipping registering GPU devices...\n",
      "2023-04-28 09:45:25.862778: I tensorflow/core/platform/cpu_feature_guard.cc:193] This TensorFlow binary is optimized with oneAPI Deep Neural Network Library (oneDNN) to use the following CPU instructions in performance-critical operations:  AVX2 AVX512F AVX512_VNNI FMA\n",
      "To enable them in other operations, rebuild TensorFlow with the appropriate compiler flags.\n"
     ]
    }
   ],
   "source": [
    "# setting up the optimization process\n",
    "tuner = BayesianOptimization(\n",
    "    hypermodel=inception_hyper_model,\n",
    "    objective=\"val_loss\",\n",
    "    num_initial_points=25,\n",
    "    max_trials=15,\n",
    "    directory=os.path.join(\"..\",\"..\", \"models\",\"updatedInception\"),\n",
    "    project_name=\"surrogate_data_4_classes_feature_extractor\",\n",
    "    seed=seed\n",
    ")"
   ]
  },
  {
   "cell_type": "markdown",
   "id": "eed4c6ec",
   "metadata": {},
   "source": [
    "Defining callback functions."
   ]
  },
  {
   "cell_type": "code",
   "execution_count": 8,
   "id": "8a6f1955",
   "metadata": {},
   "outputs": [],
   "source": [
    "# defining callbacks\n",
    "callbacks = [\n",
    "    EarlyStopping(\n",
    "        monitor='val_loss', \n",
    "        patience=20\n",
    "    ),\n",
    "    ReduceLROnPlateau(\n",
    "        monitor=\"val_loss\", \n",
    "        factor=0.1, \n",
    "        patience=10, \n",
    "        mode=\"auto\", \n",
    "        min_delta=0.0001, \n",
    "        cooldown=0, \n",
    "        min_lr=1.0e-6\n",
    "    )\n",
    "]"
   ]
  },
  {
   "cell_type": "markdown",
   "id": "809b0c02",
   "metadata": {},
   "source": [
    "Running the tuner."
   ]
  },
  {
   "cell_type": "code",
   "execution_count": 9,
   "id": "1fc0f8bc",
   "metadata": {
    "scrolled": true
   },
   "outputs": [
    {
     "name": "stdout",
     "output_type": "stream",
     "text": [
      "Trial 15 Complete [00h 05m 09s]\n",
      "val_loss: 1.1864901781082153\n",
      "\n",
      "Best val_loss So Far: 0.6318860054016113\n",
      "Total elapsed time: 01h 13m 46s\n",
      "INFO:tensorflow:Oracle triggered exit\n"
     ]
    }
   ],
   "source": [
    "# running the search\n",
    "tuner.search(\n",
    "    x_train,\n",
    "    y_train,\n",
    "    epochs=250,\n",
    "    validation_split=0.2,\n",
    "    batch_size=32,\n",
    "    callbacks=[callbacks]\n",
    ")"
   ]
  },
  {
   "cell_type": "markdown",
   "id": "13d21f28",
   "metadata": {},
   "source": [
    "### Building The Model\n",
    "Getting the best feature extraction model from the tuner."
   ]
  },
  {
   "cell_type": "code",
   "execution_count": 10,
   "id": "96bdd925",
   "metadata": {},
   "outputs": [],
   "source": [
    "best_feature_extractor = tuner.get_best_models(num_models=1)[0]"
   ]
  },
  {
   "cell_type": "markdown",
   "id": "f7afe788",
   "metadata": {},
   "source": [
    "### Feature Extraction Process\n",
    "Using the model to extract predictive patterns from the DCE-based dataset."
   ]
  },
  {
   "cell_type": "code",
   "execution_count": 11,
   "id": "c302ae4a",
   "metadata": {},
   "outputs": [
    {
     "name": "stdout",
     "output_type": "stream",
     "text": [
      "Train dataset shape: (8640, 49)\n",
      "Holdout dataset shape: (2160, 49)\n"
     ]
    }
   ],
   "source": [
    "train_features = []\n",
    "holdout_features = []\n",
    "\n",
    "# extracting trian features\n",
    "for sample in x_train:\n",
    "    sample_features = get_features_extracted(best_feature_extractor, \"global_average_pooling2d\", sample)\n",
    "    train_features.append(sample_features)\n",
    "    \n",
    "# extracting holdout features\n",
    "for sample in x_holdout:\n",
    "    sample_features = get_features_extracted(best_feature_extractor, \"global_average_pooling2d\", sample)\n",
    "    holdout_features.append(sample_features)\n",
    "\n",
    "# assembling feature dataframes\n",
    "train_features_df = pd.DataFrame(np.array(train_features).reshape((len(train_features),len(train_features[0][0])))) \n",
    "train_features_df[\"CLASS\"] = y_train\n",
    "\n",
    "holdout_features_df = pd.DataFrame(np.array(holdout_features).reshape((len(holdout_features),len(holdout_features[0][0]))))\n",
    "holdout_features_df[\"CLASS\"] = y_holdout\n",
    "\n",
    "print(f\"Train dataset shape: {train_features_df.shape}\")\n",
    "print(f\"Holdout dataset shape: {holdout_features_df.shape}\")"
   ]
  },
  {
   "cell_type": "markdown",
   "id": "e0c2a562",
   "metadata": {},
   "source": [
    "## Machine Learning Classification Experiment\n",
    "Renaming the columns to avoid errors."
   ]
  },
  {
   "cell_type": "code",
   "execution_count": 12,
   "id": "7dbaf926",
   "metadata": {},
   "outputs": [],
   "source": [
    "train_features_df.columns = train_features_df.columns.astype(str)\n",
    "holdout_features_df.columns = holdout_features_df.columns.astype(str)"
   ]
  },
  {
   "cell_type": "code",
   "execution_count": 13,
   "id": "b6f984ff",
   "metadata": {},
   "outputs": [
    {
     "name": "stdout",
     "output_type": "stream",
     "text": [
      "68/68 [==============================] - 1s 7ms/step - loss: 0.6122 - accuracy: 0.7301\n",
      "[test loss, test accuracy]: [0.6121531128883362, 0.7300925850868225]\n"
     ]
    }
   ],
   "source": [
    "eval_result = best_feature_extractor.evaluate(x_holdout, y_holdout)\n",
    "print(\"[test loss, test accuracy]:\", eval_result)"
   ]
  },
  {
   "cell_type": "markdown",
   "id": "1aded638",
   "metadata": {},
   "source": [
    "##### Inception Statistics"
   ]
  },
  {
   "cell_type": "code",
   "execution_count": 14,
   "id": "bb857b5e",
   "metadata": {},
   "outputs": [
    {
     "name": "stdout",
     "output_type": "stream",
     "text": [
      "34/34 [==============================] - 0s 10ms/step\n",
      "              precision    recall  f1-score   support\n",
      "\n",
      "           0     0.9573    0.9180    0.9372       244\n",
      "           1     0.7609    0.8732    0.8132      1159\n",
      "           2     0.4756    0.3004    0.3682       486\n",
      "           3     0.6747    0.7196    0.6964       271\n",
      "\n",
      "    accuracy                         0.7301      2160\n",
      "   macro avg     0.7171    0.7028    0.7038      2160\n",
      "weighted avg     0.7081    0.7301    0.7124      2160\n",
      "\n"
     ]
    }
   ],
   "source": [
    "y_pred = best_feature_extractor.predict(x_holdout, batch_size=64, verbose=1)\n",
    "y_pred_bool = np.argmax(y_pred, axis=1)\n",
    "\n",
    "print(classification_report(y_holdout, y_pred_bool,digits=4))\n",
    "\n",
    "#print('AUC = %.4f' % metrics.roc_auc_score(y_holdout, y_pred,  multi_class=\"ovr\", average='macro'))"
   ]
  },
  {
   "cell_type": "markdown",
   "id": "fe11e568",
   "metadata": {},
   "source": [
    "Setting up the ML classification pipeline."
   ]
  },
  {
   "cell_type": "code",
   "execution_count": 15,
   "id": "774fc97d",
   "metadata": {},
   "outputs": [
    {
     "data": {
      "text/html": [
       "<style type=\"text/css\">\n",
       "#T_10e2d_row15_col1 {\n",
       "  background-color: lightgreen;\n",
       "}\n",
       "</style>\n",
       "<table id=\"T_10e2d\">\n",
       "  <thead>\n",
       "    <tr>\n",
       "      <th class=\"blank level0\" >&nbsp;</th>\n",
       "      <th id=\"T_10e2d_level0_col0\" class=\"col_heading level0 col0\" >Description</th>\n",
       "      <th id=\"T_10e2d_level0_col1\" class=\"col_heading level0 col1\" >Value</th>\n",
       "    </tr>\n",
       "  </thead>\n",
       "  <tbody>\n",
       "    <tr>\n",
       "      <th id=\"T_10e2d_level0_row0\" class=\"row_heading level0 row0\" >0</th>\n",
       "      <td id=\"T_10e2d_row0_col0\" class=\"data row0 col0\" >session_id</td>\n",
       "      <td id=\"T_10e2d_row0_col1\" class=\"data row0 col1\" >6905</td>\n",
       "    </tr>\n",
       "    <tr>\n",
       "      <th id=\"T_10e2d_level0_row1\" class=\"row_heading level0 row1\" >1</th>\n",
       "      <td id=\"T_10e2d_row1_col0\" class=\"data row1 col0\" >Target</td>\n",
       "      <td id=\"T_10e2d_row1_col1\" class=\"data row1 col1\" >CLASS</td>\n",
       "    </tr>\n",
       "    <tr>\n",
       "      <th id=\"T_10e2d_level0_row2\" class=\"row_heading level0 row2\" >2</th>\n",
       "      <td id=\"T_10e2d_row2_col0\" class=\"data row2 col0\" >Target Type</td>\n",
       "      <td id=\"T_10e2d_row2_col1\" class=\"data row2 col1\" >Multiclass</td>\n",
       "    </tr>\n",
       "    <tr>\n",
       "      <th id=\"T_10e2d_level0_row3\" class=\"row_heading level0 row3\" >3</th>\n",
       "      <td id=\"T_10e2d_row3_col0\" class=\"data row3 col0\" >Label Encoded</td>\n",
       "      <td id=\"T_10e2d_row3_col1\" class=\"data row3 col1\" >0: 0, 1: 1, 2: 2, 3: 3</td>\n",
       "    </tr>\n",
       "    <tr>\n",
       "      <th id=\"T_10e2d_level0_row4\" class=\"row_heading level0 row4\" >4</th>\n",
       "      <td id=\"T_10e2d_row4_col0\" class=\"data row4 col0\" >Original Data</td>\n",
       "      <td id=\"T_10e2d_row4_col1\" class=\"data row4 col1\" >(8640, 49)</td>\n",
       "    </tr>\n",
       "    <tr>\n",
       "      <th id=\"T_10e2d_level0_row5\" class=\"row_heading level0 row5\" >5</th>\n",
       "      <td id=\"T_10e2d_row5_col0\" class=\"data row5 col0\" >Missing Values</td>\n",
       "      <td id=\"T_10e2d_row5_col1\" class=\"data row5 col1\" >False</td>\n",
       "    </tr>\n",
       "    <tr>\n",
       "      <th id=\"T_10e2d_level0_row6\" class=\"row_heading level0 row6\" >6</th>\n",
       "      <td id=\"T_10e2d_row6_col0\" class=\"data row6 col0\" >Numeric Features</td>\n",
       "      <td id=\"T_10e2d_row6_col1\" class=\"data row6 col1\" >48</td>\n",
       "    </tr>\n",
       "    <tr>\n",
       "      <th id=\"T_10e2d_level0_row7\" class=\"row_heading level0 row7\" >7</th>\n",
       "      <td id=\"T_10e2d_row7_col0\" class=\"data row7 col0\" >Categorical Features</td>\n",
       "      <td id=\"T_10e2d_row7_col1\" class=\"data row7 col1\" >0</td>\n",
       "    </tr>\n",
       "    <tr>\n",
       "      <th id=\"T_10e2d_level0_row8\" class=\"row_heading level0 row8\" >8</th>\n",
       "      <td id=\"T_10e2d_row8_col0\" class=\"data row8 col0\" >Transformed Train Set</td>\n",
       "      <td id=\"T_10e2d_row8_col1\" class=\"data row8 col1\" >(8640, 48)</td>\n",
       "    </tr>\n",
       "    <tr>\n",
       "      <th id=\"T_10e2d_level0_row9\" class=\"row_heading level0 row9\" >9</th>\n",
       "      <td id=\"T_10e2d_row9_col0\" class=\"data row9 col0\" >Transformed Test Set</td>\n",
       "      <td id=\"T_10e2d_row9_col1\" class=\"data row9 col1\" >(2160, 48)</td>\n",
       "    </tr>\n",
       "    <tr>\n",
       "      <th id=\"T_10e2d_level0_row10\" class=\"row_heading level0 row10\" >10</th>\n",
       "      <td id=\"T_10e2d_row10_col0\" class=\"data row10 col0\" >Shuffle Train-Test</td>\n",
       "      <td id=\"T_10e2d_row10_col1\" class=\"data row10 col1\" >True</td>\n",
       "    </tr>\n",
       "    <tr>\n",
       "      <th id=\"T_10e2d_level0_row11\" class=\"row_heading level0 row11\" >11</th>\n",
       "      <td id=\"T_10e2d_row11_col0\" class=\"data row11 col0\" >Stratify Train-Test</td>\n",
       "      <td id=\"T_10e2d_row11_col1\" class=\"data row11 col1\" >False</td>\n",
       "    </tr>\n",
       "    <tr>\n",
       "      <th id=\"T_10e2d_level0_row12\" class=\"row_heading level0 row12\" >12</th>\n",
       "      <td id=\"T_10e2d_row12_col0\" class=\"data row12 col0\" >Fold Generator</td>\n",
       "      <td id=\"T_10e2d_row12_col1\" class=\"data row12 col1\" >StratifiedKFold</td>\n",
       "    </tr>\n",
       "    <tr>\n",
       "      <th id=\"T_10e2d_level0_row13\" class=\"row_heading level0 row13\" >13</th>\n",
       "      <td id=\"T_10e2d_row13_col0\" class=\"data row13 col0\" >Fold Number</td>\n",
       "      <td id=\"T_10e2d_row13_col1\" class=\"data row13 col1\" >10</td>\n",
       "    </tr>\n",
       "    <tr>\n",
       "      <th id=\"T_10e2d_level0_row14\" class=\"row_heading level0 row14\" >14</th>\n",
       "      <td id=\"T_10e2d_row14_col0\" class=\"data row14 col0\" >CPU Jobs</td>\n",
       "      <td id=\"T_10e2d_row14_col1\" class=\"data row14 col1\" >-1</td>\n",
       "    </tr>\n",
       "    <tr>\n",
       "      <th id=\"T_10e2d_level0_row15\" class=\"row_heading level0 row15\" >15</th>\n",
       "      <td id=\"T_10e2d_row15_col0\" class=\"data row15 col0\" >Use GPU</td>\n",
       "      <td id=\"T_10e2d_row15_col1\" class=\"data row15 col1\" >True</td>\n",
       "    </tr>\n",
       "    <tr>\n",
       "      <th id=\"T_10e2d_level0_row16\" class=\"row_heading level0 row16\" >16</th>\n",
       "      <td id=\"T_10e2d_row16_col0\" class=\"data row16 col0\" >Log Experiment</td>\n",
       "      <td id=\"T_10e2d_row16_col1\" class=\"data row16 col1\" >False</td>\n",
       "    </tr>\n",
       "    <tr>\n",
       "      <th id=\"T_10e2d_level0_row17\" class=\"row_heading level0 row17\" >17</th>\n",
       "      <td id=\"T_10e2d_row17_col0\" class=\"data row17 col0\" >Experiment Name</td>\n",
       "      <td id=\"T_10e2d_row17_col1\" class=\"data row17 col1\" >clf-default-name</td>\n",
       "    </tr>\n",
       "    <tr>\n",
       "      <th id=\"T_10e2d_level0_row18\" class=\"row_heading level0 row18\" >18</th>\n",
       "      <td id=\"T_10e2d_row18_col0\" class=\"data row18 col0\" >USI</td>\n",
       "      <td id=\"T_10e2d_row18_col1\" class=\"data row18 col1\" >9796</td>\n",
       "    </tr>\n",
       "    <tr>\n",
       "      <th id=\"T_10e2d_level0_row19\" class=\"row_heading level0 row19\" >19</th>\n",
       "      <td id=\"T_10e2d_row19_col0\" class=\"data row19 col0\" >Fix Imbalance</td>\n",
       "      <td id=\"T_10e2d_row19_col1\" class=\"data row19 col1\" >False</td>\n",
       "    </tr>\n",
       "    <tr>\n",
       "      <th id=\"T_10e2d_level0_row20\" class=\"row_heading level0 row20\" >20</th>\n",
       "      <td id=\"T_10e2d_row20_col0\" class=\"data row20 col0\" >Fix Imbalance Method</td>\n",
       "      <td id=\"T_10e2d_row20_col1\" class=\"data row20 col1\" >SMOTE</td>\n",
       "    </tr>\n",
       "  </tbody>\n",
       "</table>\n"
      ],
      "text/plain": [
       "<pandas.io.formats.style.Styler at 0x7f34bd989570>"
      ]
     },
     "metadata": {},
     "output_type": "display_data"
    }
   ],
   "source": [
    "classif_exp = setup(\n",
    "    data=train_features_df,\n",
    "    test_data=holdout_features_df,\n",
    "    target=\"CLASS\",\n",
    "    fold_shuffle=True,\n",
    "    preprocess = False,\n",
    "    use_gpu=True\n",
    ")"
   ]
  },
  {
   "cell_type": "markdown",
   "id": "0ab1fe9b",
   "metadata": {},
   "source": [
    "#### Models Comparison\n",
    "Comparing different machine learning model performances for the task of classifying DCE-base features."
   ]
  },
  {
   "cell_type": "code",
   "execution_count": 16,
   "id": "65bdd20a",
   "metadata": {
    "scrolled": false
   },
   "outputs": [
    {
     "data": {
      "text/html": [
       "<style type=\"text/css\">\n",
       "#T_bf066 th {\n",
       "  text-align: left;\n",
       "}\n",
       "#T_bf066_row0_col0, #T_bf066_row1_col0, #T_bf066_row1_col1, #T_bf066_row1_col2, #T_bf066_row1_col3, #T_bf066_row1_col4, #T_bf066_row1_col5, #T_bf066_row1_col6, #T_bf066_row1_col7, #T_bf066_row2_col0, #T_bf066_row2_col1, #T_bf066_row2_col2, #T_bf066_row2_col3, #T_bf066_row2_col4, #T_bf066_row2_col5, #T_bf066_row2_col6, #T_bf066_row2_col7, #T_bf066_row3_col0, #T_bf066_row3_col1, #T_bf066_row3_col2, #T_bf066_row3_col3, #T_bf066_row3_col4, #T_bf066_row3_col5, #T_bf066_row3_col6, #T_bf066_row3_col7, #T_bf066_row4_col0, #T_bf066_row4_col1, #T_bf066_row4_col2, #T_bf066_row4_col3, #T_bf066_row4_col4, #T_bf066_row4_col5, #T_bf066_row4_col6, #T_bf066_row4_col7, #T_bf066_row5_col0, #T_bf066_row5_col1, #T_bf066_row5_col2, #T_bf066_row5_col3, #T_bf066_row5_col4, #T_bf066_row5_col5, #T_bf066_row5_col6, #T_bf066_row5_col7, #T_bf066_row6_col0, #T_bf066_row6_col1, #T_bf066_row6_col2, #T_bf066_row6_col3, #T_bf066_row6_col4, #T_bf066_row6_col5, #T_bf066_row6_col6, #T_bf066_row6_col7, #T_bf066_row7_col0, #T_bf066_row7_col1, #T_bf066_row7_col2, #T_bf066_row7_col3, #T_bf066_row7_col4, #T_bf066_row7_col5, #T_bf066_row7_col6, #T_bf066_row7_col7, #T_bf066_row8_col0, #T_bf066_row8_col1, #T_bf066_row8_col2, #T_bf066_row8_col3, #T_bf066_row8_col4, #T_bf066_row8_col5, #T_bf066_row8_col6, #T_bf066_row8_col7, #T_bf066_row9_col0, #T_bf066_row9_col1, #T_bf066_row9_col2, #T_bf066_row9_col3, #T_bf066_row9_col4, #T_bf066_row9_col5, #T_bf066_row9_col6, #T_bf066_row9_col7, #T_bf066_row10_col0, #T_bf066_row10_col1, #T_bf066_row10_col2, #T_bf066_row10_col3, #T_bf066_row10_col4, #T_bf066_row10_col5, #T_bf066_row10_col6, #T_bf066_row10_col7, #T_bf066_row11_col0, #T_bf066_row11_col1, #T_bf066_row11_col2, #T_bf066_row11_col3, #T_bf066_row11_col4, #T_bf066_row11_col5, #T_bf066_row11_col6, #T_bf066_row11_col7, #T_bf066_row12_col0, #T_bf066_row12_col1, #T_bf066_row12_col2, #T_bf066_row12_col3, #T_bf066_row12_col4, #T_bf066_row12_col5, #T_bf066_row12_col6, #T_bf066_row12_col7, #T_bf066_row13_col0, #T_bf066_row13_col1, #T_bf066_row13_col2, #T_bf066_row13_col3, #T_bf066_row13_col4, #T_bf066_row13_col5, #T_bf066_row13_col6, #T_bf066_row13_col7, #T_bf066_row14_col0, #T_bf066_row14_col1, #T_bf066_row14_col2, #T_bf066_row14_col3, #T_bf066_row14_col4, #T_bf066_row14_col5, #T_bf066_row14_col6, #T_bf066_row14_col7 {\n",
       "  text-align: left;\n",
       "}\n",
       "#T_bf066_row0_col1, #T_bf066_row0_col2, #T_bf066_row0_col3, #T_bf066_row0_col4, #T_bf066_row0_col5, #T_bf066_row0_col6, #T_bf066_row0_col7 {\n",
       "  text-align: left;\n",
       "  background-color: yellow;\n",
       "}\n",
       "#T_bf066_row0_col8, #T_bf066_row1_col8, #T_bf066_row2_col8, #T_bf066_row3_col8, #T_bf066_row4_col8, #T_bf066_row5_col8, #T_bf066_row6_col8, #T_bf066_row7_col8, #T_bf066_row8_col8, #T_bf066_row9_col8, #T_bf066_row10_col8, #T_bf066_row11_col8, #T_bf066_row13_col8, #T_bf066_row14_col8 {\n",
       "  text-align: left;\n",
       "  background-color: lightgrey;\n",
       "}\n",
       "#T_bf066_row12_col8 {\n",
       "  text-align: left;\n",
       "  background-color: yellow;\n",
       "  background-color: lightgrey;\n",
       "}\n",
       "</style>\n",
       "<table id=\"T_bf066\">\n",
       "  <thead>\n",
       "    <tr>\n",
       "      <th class=\"blank level0\" >&nbsp;</th>\n",
       "      <th id=\"T_bf066_level0_col0\" class=\"col_heading level0 col0\" >Model</th>\n",
       "      <th id=\"T_bf066_level0_col1\" class=\"col_heading level0 col1\" >Accuracy</th>\n",
       "      <th id=\"T_bf066_level0_col2\" class=\"col_heading level0 col2\" >AUC</th>\n",
       "      <th id=\"T_bf066_level0_col3\" class=\"col_heading level0 col3\" >Recall</th>\n",
       "      <th id=\"T_bf066_level0_col4\" class=\"col_heading level0 col4\" >Prec.</th>\n",
       "      <th id=\"T_bf066_level0_col5\" class=\"col_heading level0 col5\" >F1</th>\n",
       "      <th id=\"T_bf066_level0_col6\" class=\"col_heading level0 col6\" >Kappa</th>\n",
       "      <th id=\"T_bf066_level0_col7\" class=\"col_heading level0 col7\" >MCC</th>\n",
       "      <th id=\"T_bf066_level0_col8\" class=\"col_heading level0 col8\" >TT (Sec)</th>\n",
       "    </tr>\n",
       "  </thead>\n",
       "  <tbody>\n",
       "    <tr>\n",
       "      <th id=\"T_bf066_level0_row0\" class=\"row_heading level0 row0\" >catboost</th>\n",
       "      <td id=\"T_bf066_row0_col0\" class=\"data row0 col0\" >CatBoost Classifier</td>\n",
       "      <td id=\"T_bf066_row0_col1\" class=\"data row0 col1\" >0.8108</td>\n",
       "      <td id=\"T_bf066_row0_col2\" class=\"data row0 col2\" >0.9251</td>\n",
       "      <td id=\"T_bf066_row0_col3\" class=\"data row0 col3\" >0.8099</td>\n",
       "      <td id=\"T_bf066_row0_col4\" class=\"data row0 col4\" >0.8042</td>\n",
       "      <td id=\"T_bf066_row0_col5\" class=\"data row0 col5\" >0.8048</td>\n",
       "      <td id=\"T_bf066_row0_col6\" class=\"data row0 col6\" >0.6938</td>\n",
       "      <td id=\"T_bf066_row0_col7\" class=\"data row0 col7\" >0.6968</td>\n",
       "      <td id=\"T_bf066_row0_col8\" class=\"data row0 col8\" >9.7160</td>\n",
       "    </tr>\n",
       "    <tr>\n",
       "      <th id=\"T_bf066_level0_row1\" class=\"row_heading level0 row1\" >rf</th>\n",
       "      <td id=\"T_bf066_row1_col0\" class=\"data row1 col0\" >Random Forest Classifier</td>\n",
       "      <td id=\"T_bf066_row1_col1\" class=\"data row1 col1\" >0.8104</td>\n",
       "      <td id=\"T_bf066_row1_col2\" class=\"data row1 col2\" >0.9213</td>\n",
       "      <td id=\"T_bf066_row1_col3\" class=\"data row1 col3\" >0.8041</td>\n",
       "      <td id=\"T_bf066_row1_col4\" class=\"data row1 col4\" >0.8028</td>\n",
       "      <td id=\"T_bf066_row1_col5\" class=\"data row1 col5\" >0.8019</td>\n",
       "      <td id=\"T_bf066_row1_col6\" class=\"data row1 col6\" >0.6906</td>\n",
       "      <td id=\"T_bf066_row1_col7\" class=\"data row1 col7\" >0.6959</td>\n",
       "      <td id=\"T_bf066_row1_col8\" class=\"data row1 col8\" >0.8760</td>\n",
       "    </tr>\n",
       "    <tr>\n",
       "      <th id=\"T_bf066_level0_row2\" class=\"row_heading level0 row2\" >et</th>\n",
       "      <td id=\"T_bf066_row2_col0\" class=\"data row2 col0\" >Extra Trees Classifier</td>\n",
       "      <td id=\"T_bf066_row2_col1\" class=\"data row2 col1\" >0.8073</td>\n",
       "      <td id=\"T_bf066_row2_col2\" class=\"data row2 col2\" >0.9223</td>\n",
       "      <td id=\"T_bf066_row2_col3\" class=\"data row2 col3\" >0.8005</td>\n",
       "      <td id=\"T_bf066_row2_col4\" class=\"data row2 col4\" >0.7992</td>\n",
       "      <td id=\"T_bf066_row2_col5\" class=\"data row2 col5\" >0.7987</td>\n",
       "      <td id=\"T_bf066_row2_col6\" class=\"data row2 col6\" >0.6854</td>\n",
       "      <td id=\"T_bf066_row2_col7\" class=\"data row2 col7\" >0.6905</td>\n",
       "      <td id=\"T_bf066_row2_col8\" class=\"data row2 col8\" >0.8130</td>\n",
       "    </tr>\n",
       "    <tr>\n",
       "      <th id=\"T_bf066_level0_row3\" class=\"row_heading level0 row3\" >lightgbm</th>\n",
       "      <td id=\"T_bf066_row3_col0\" class=\"data row3 col0\" >Light Gradient Boosting Machine</td>\n",
       "      <td id=\"T_bf066_row3_col1\" class=\"data row3 col1\" >0.8054</td>\n",
       "      <td id=\"T_bf066_row3_col2\" class=\"data row3 col2\" >0.9224</td>\n",
       "      <td id=\"T_bf066_row3_col3\" class=\"data row3 col3\" >0.8020</td>\n",
       "      <td id=\"T_bf066_row3_col4\" class=\"data row3 col4\" >0.7983</td>\n",
       "      <td id=\"T_bf066_row3_col5\" class=\"data row3 col5\" >0.7989</td>\n",
       "      <td id=\"T_bf066_row3_col6\" class=\"data row3 col6\" >0.6843</td>\n",
       "      <td id=\"T_bf066_row3_col7\" class=\"data row3 col7\" >0.6876</td>\n",
       "      <td id=\"T_bf066_row3_col8\" class=\"data row3 col8\" >0.3380</td>\n",
       "    </tr>\n",
       "    <tr>\n",
       "      <th id=\"T_bf066_level0_row4\" class=\"row_heading level0 row4\" >xgboost</th>\n",
       "      <td id=\"T_bf066_row4_col0\" class=\"data row4 col0\" >Extreme Gradient Boosting</td>\n",
       "      <td id=\"T_bf066_row4_col1\" class=\"data row4 col1\" >0.8041</td>\n",
       "      <td id=\"T_bf066_row4_col2\" class=\"data row4 col2\" >0.9210</td>\n",
       "      <td id=\"T_bf066_row4_col3\" class=\"data row4 col3\" >0.8029</td>\n",
       "      <td id=\"T_bf066_row4_col4\" class=\"data row4 col4\" >0.7977</td>\n",
       "      <td id=\"T_bf066_row4_col5\" class=\"data row4 col5\" >0.7984</td>\n",
       "      <td id=\"T_bf066_row4_col6\" class=\"data row4 col6\" >0.6829</td>\n",
       "      <td id=\"T_bf066_row4_col7\" class=\"data row4 col7\" >0.6857</td>\n",
       "      <td id=\"T_bf066_row4_col8\" class=\"data row4 col8\" >1.0910</td>\n",
       "    </tr>\n",
       "    <tr>\n",
       "      <th id=\"T_bf066_level0_row5\" class=\"row_heading level0 row5\" >gbc</th>\n",
       "      <td id=\"T_bf066_row5_col0\" class=\"data row5 col0\" >Gradient Boosting Classifier</td>\n",
       "      <td id=\"T_bf066_row5_col1\" class=\"data row5 col1\" >0.8038</td>\n",
       "      <td id=\"T_bf066_row5_col2\" class=\"data row5 col2\" >0.9180</td>\n",
       "      <td id=\"T_bf066_row5_col3\" class=\"data row5 col3\" >0.7959</td>\n",
       "      <td id=\"T_bf066_row5_col4\" class=\"data row5 col4\" >0.7951</td>\n",
       "      <td id=\"T_bf066_row5_col5\" class=\"data row5 col5\" >0.7930</td>\n",
       "      <td id=\"T_bf066_row5_col6\" class=\"data row5 col6\" >0.6785</td>\n",
       "      <td id=\"T_bf066_row5_col7\" class=\"data row5 col7\" >0.6854</td>\n",
       "      <td id=\"T_bf066_row5_col8\" class=\"data row5 col8\" >19.8210</td>\n",
       "    </tr>\n",
       "    <tr>\n",
       "      <th id=\"T_bf066_level0_row6\" class=\"row_heading level0 row6\" >knn</th>\n",
       "      <td id=\"T_bf066_row6_col0\" class=\"data row6 col0\" >K Neighbors Classifier</td>\n",
       "      <td id=\"T_bf066_row6_col1\" class=\"data row6 col1\" >0.7902</td>\n",
       "      <td id=\"T_bf066_row6_col2\" class=\"data row6 col2\" >0.8904</td>\n",
       "      <td id=\"T_bf066_row6_col3\" class=\"data row6 col3\" >0.7897</td>\n",
       "      <td id=\"T_bf066_row6_col4\" class=\"data row6 col4\" >0.7847</td>\n",
       "      <td id=\"T_bf066_row6_col5\" class=\"data row6 col5\" >0.7855</td>\n",
       "      <td id=\"T_bf066_row6_col6\" class=\"data row6 col6\" >0.6608</td>\n",
       "      <td id=\"T_bf066_row6_col7\" class=\"data row6 col7\" >0.6630</td>\n",
       "      <td id=\"T_bf066_row6_col8\" class=\"data row6 col8\" >0.2720</td>\n",
       "    </tr>\n",
       "    <tr>\n",
       "      <th id=\"T_bf066_level0_row7\" class=\"row_heading level0 row7\" >lr</th>\n",
       "      <td id=\"T_bf066_row7_col0\" class=\"data row7 col0\" >Logistic Regression</td>\n",
       "      <td id=\"T_bf066_row7_col1\" class=\"data row7 col1\" >0.7616</td>\n",
       "      <td id=\"T_bf066_row7_col2\" class=\"data row7 col2\" >0.8514</td>\n",
       "      <td id=\"T_bf066_row7_col3\" class=\"data row7 col3\" >0.7344</td>\n",
       "      <td id=\"T_bf066_row7_col4\" class=\"data row7 col4\" >0.7542</td>\n",
       "      <td id=\"T_bf066_row7_col5\" class=\"data row7 col5\" >0.7185</td>\n",
       "      <td id=\"T_bf066_row7_col6\" class=\"data row7 col6\" >0.5917</td>\n",
       "      <td id=\"T_bf066_row7_col7\" class=\"data row7 col7\" >0.6272</td>\n",
       "      <td id=\"T_bf066_row7_col8\" class=\"data row7 col8\" >0.2200</td>\n",
       "    </tr>\n",
       "    <tr>\n",
       "      <th id=\"T_bf066_level0_row8\" class=\"row_heading level0 row8\" >svm</th>\n",
       "      <td id=\"T_bf066_row8_col0\" class=\"data row8 col0\" >SVM - Linear Kernel</td>\n",
       "      <td id=\"T_bf066_row8_col1\" class=\"data row8 col1\" >0.7500</td>\n",
       "      <td id=\"T_bf066_row8_col2\" class=\"data row8 col2\" >0.0000</td>\n",
       "      <td id=\"T_bf066_row8_col3\" class=\"data row8 col3\" >0.7137</td>\n",
       "      <td id=\"T_bf066_row8_col4\" class=\"data row8 col4\" >0.7833</td>\n",
       "      <td id=\"T_bf066_row8_col5\" class=\"data row8 col5\" >0.6856</td>\n",
       "      <td id=\"T_bf066_row8_col6\" class=\"data row8 col6\" >0.5628</td>\n",
       "      <td id=\"T_bf066_row8_col7\" class=\"data row8 col7\" >0.6203</td>\n",
       "      <td id=\"T_bf066_row8_col8\" class=\"data row8 col8\" >0.0480</td>\n",
       "    </tr>\n",
       "    <tr>\n",
       "      <th id=\"T_bf066_level0_row9\" class=\"row_heading level0 row9\" >lda</th>\n",
       "      <td id=\"T_bf066_row9_col0\" class=\"data row9 col0\" >Linear Discriminant Analysis</td>\n",
       "      <td id=\"T_bf066_row9_col1\" class=\"data row9 col1\" >0.7494</td>\n",
       "      <td id=\"T_bf066_row9_col2\" class=\"data row9 col2\" >0.8456</td>\n",
       "      <td id=\"T_bf066_row9_col3\" class=\"data row9 col3\" >0.7065</td>\n",
       "      <td id=\"T_bf066_row9_col4\" class=\"data row9 col4\" >0.7377</td>\n",
       "      <td id=\"T_bf066_row9_col5\" class=\"data row9 col5\" >0.7202</td>\n",
       "      <td id=\"T_bf066_row9_col6\" class=\"data row9 col6\" >0.5704</td>\n",
       "      <td id=\"T_bf066_row9_col7\" class=\"data row9 col7\" >0.5968</td>\n",
       "      <td id=\"T_bf066_row9_col8\" class=\"data row9 col8\" >0.0520</td>\n",
       "    </tr>\n",
       "    <tr>\n",
       "      <th id=\"T_bf066_level0_row10\" class=\"row_heading level0 row10\" >ridge</th>\n",
       "      <td id=\"T_bf066_row10_col0\" class=\"data row10 col0\" >Ridge Classifier</td>\n",
       "      <td id=\"T_bf066_row10_col1\" class=\"data row10 col1\" >0.7411</td>\n",
       "      <td id=\"T_bf066_row10_col2\" class=\"data row10 col2\" >0.0000</td>\n",
       "      <td id=\"T_bf066_row10_col3\" class=\"data row10 col3\" >0.6913</td>\n",
       "      <td id=\"T_bf066_row10_col4\" class=\"data row10 col4\" >0.7526</td>\n",
       "      <td id=\"T_bf066_row10_col5\" class=\"data row10 col5\" >0.6905</td>\n",
       "      <td id=\"T_bf066_row10_col6\" class=\"data row10 col6\" >0.5460</td>\n",
       "      <td id=\"T_bf066_row10_col7\" class=\"data row10 col7\" >0.5958</td>\n",
       "      <td id=\"T_bf066_row10_col8\" class=\"data row10 col8\" >0.0120</td>\n",
       "    </tr>\n",
       "    <tr>\n",
       "      <th id=\"T_bf066_level0_row11\" class=\"row_heading level0 row11\" >dt</th>\n",
       "      <td id=\"T_bf066_row11_col0\" class=\"data row11 col0\" >Decision Tree Classifier</td>\n",
       "      <td id=\"T_bf066_row11_col1\" class=\"data row11 col1\" >0.7312</td>\n",
       "      <td id=\"T_bf066_row11_col2\" class=\"data row11 col2\" >0.7813</td>\n",
       "      <td id=\"T_bf066_row11_col3\" class=\"data row11 col3\" >0.7507</td>\n",
       "      <td id=\"T_bf066_row11_col4\" class=\"data row11 col4\" >0.7327</td>\n",
       "      <td id=\"T_bf066_row11_col5\" class=\"data row11 col5\" >0.7316</td>\n",
       "      <td id=\"T_bf066_row11_col6\" class=\"data row11 col6\" >0.5764</td>\n",
       "      <td id=\"T_bf066_row11_col7\" class=\"data row11 col7\" >0.5767</td>\n",
       "      <td id=\"T_bf066_row11_col8\" class=\"data row11 col8\" >0.2710</td>\n",
       "    </tr>\n",
       "    <tr>\n",
       "      <th id=\"T_bf066_level0_row12\" class=\"row_heading level0 row12\" >nb</th>\n",
       "      <td id=\"T_bf066_row12_col0\" class=\"data row12 col0\" >Naive Bayes</td>\n",
       "      <td id=\"T_bf066_row12_col1\" class=\"data row12 col1\" >0.7284</td>\n",
       "      <td id=\"T_bf066_row12_col2\" class=\"data row12 col2\" >0.8399</td>\n",
       "      <td id=\"T_bf066_row12_col3\" class=\"data row12 col3\" >0.7371</td>\n",
       "      <td id=\"T_bf066_row12_col4\" class=\"data row12 col4\" >0.7077</td>\n",
       "      <td id=\"T_bf066_row12_col5\" class=\"data row12 col5\" >0.6988</td>\n",
       "      <td id=\"T_bf066_row12_col6\" class=\"data row12 col6\" >0.5621</td>\n",
       "      <td id=\"T_bf066_row12_col7\" class=\"data row12 col7\" >0.5750</td>\n",
       "      <td id=\"T_bf066_row12_col8\" class=\"data row12 col8\" >0.0100</td>\n",
       "    </tr>\n",
       "    <tr>\n",
       "      <th id=\"T_bf066_level0_row13\" class=\"row_heading level0 row13\" >qda</th>\n",
       "      <td id=\"T_bf066_row13_col0\" class=\"data row13 col0\" >Quadratic Discriminant Analysis</td>\n",
       "      <td id=\"T_bf066_row13_col1\" class=\"data row13 col1\" >0.6760</td>\n",
       "      <td id=\"T_bf066_row13_col2\" class=\"data row13 col2\" >0.8131</td>\n",
       "      <td id=\"T_bf066_row13_col3\" class=\"data row13 col3\" >0.7088</td>\n",
       "      <td id=\"T_bf066_row13_col4\" class=\"data row13 col4\" >0.6712</td>\n",
       "      <td id=\"T_bf066_row13_col5\" class=\"data row13 col5\" >0.6534</td>\n",
       "      <td id=\"T_bf066_row13_col6\" class=\"data row13 col6\" >0.4954</td>\n",
       "      <td id=\"T_bf066_row13_col7\" class=\"data row13 col7\" >0.5095</td>\n",
       "      <td id=\"T_bf066_row13_col8\" class=\"data row13 col8\" >0.0240</td>\n",
       "    </tr>\n",
       "    <tr>\n",
       "      <th id=\"T_bf066_level0_row14\" class=\"row_heading level0 row14\" >ada</th>\n",
       "      <td id=\"T_bf066_row14_col0\" class=\"data row14 col0\" >Ada Boost Classifier</td>\n",
       "      <td id=\"T_bf066_row14_col1\" class=\"data row14 col1\" >0.4931</td>\n",
       "      <td id=\"T_bf066_row14_col2\" class=\"data row14 col2\" >0.7278</td>\n",
       "      <td id=\"T_bf066_row14_col3\" class=\"data row14 col3\" >0.6297</td>\n",
       "      <td id=\"T_bf066_row14_col4\" class=\"data row14 col4\" >0.6396</td>\n",
       "      <td id=\"T_bf066_row14_col5\" class=\"data row14 col5\" >0.4992</td>\n",
       "      <td id=\"T_bf066_row14_col6\" class=\"data row14 col6\" >0.3176</td>\n",
       "      <td id=\"T_bf066_row14_col7\" class=\"data row14 col7\" >0.3663</td>\n",
       "      <td id=\"T_bf066_row14_col8\" class=\"data row14 col8\" >1.1260</td>\n",
       "    </tr>\n",
       "  </tbody>\n",
       "</table>\n"
      ],
      "text/plain": [
       "<pandas.io.formats.style.Styler at 0x7f33e26f4a60>"
      ]
     },
     "metadata": {},
     "output_type": "display_data"
    }
   ],
   "source": [
    "best_model = compare_models(sort=\"Accuracy\")"
   ]
  },
  {
   "cell_type": "code",
   "execution_count": 17,
   "id": "5c42ddd5",
   "metadata": {
    "scrolled": true
   },
   "outputs": [
    {
     "data": {
      "text/html": [
       "<style type=\"text/css\">\n",
       "</style>\n",
       "<table id=\"T_cef25\">\n",
       "  <thead>\n",
       "    <tr>\n",
       "      <th class=\"blank level0\" >&nbsp;</th>\n",
       "      <th id=\"T_cef25_level0_col0\" class=\"col_heading level0 col0\" >Model</th>\n",
       "      <th id=\"T_cef25_level0_col1\" class=\"col_heading level0 col1\" >Accuracy</th>\n",
       "      <th id=\"T_cef25_level0_col2\" class=\"col_heading level0 col2\" >AUC</th>\n",
       "      <th id=\"T_cef25_level0_col3\" class=\"col_heading level0 col3\" >Recall</th>\n",
       "      <th id=\"T_cef25_level0_col4\" class=\"col_heading level0 col4\" >Prec.</th>\n",
       "      <th id=\"T_cef25_level0_col5\" class=\"col_heading level0 col5\" >F1</th>\n",
       "      <th id=\"T_cef25_level0_col6\" class=\"col_heading level0 col6\" >Kappa</th>\n",
       "      <th id=\"T_cef25_level0_col7\" class=\"col_heading level0 col7\" >MCC</th>\n",
       "    </tr>\n",
       "  </thead>\n",
       "  <tbody>\n",
       "    <tr>\n",
       "      <th id=\"T_cef25_level0_row0\" class=\"row_heading level0 row0\" >0</th>\n",
       "      <td id=\"T_cef25_row0_col0\" class=\"data row0 col0\" >CatBoost Classifier</td>\n",
       "      <td id=\"T_cef25_row0_col1\" class=\"data row0 col1\" >0.7801</td>\n",
       "      <td id=\"T_cef25_row0_col2\" class=\"data row0 col2\" >0.9053</td>\n",
       "      <td id=\"T_cef25_row0_col3\" class=\"data row0 col3\" >0.7585</td>\n",
       "      <td id=\"T_cef25_row0_col4\" class=\"data row0 col4\" >0.7732</td>\n",
       "      <td id=\"T_cef25_row0_col5\" class=\"data row0 col5\" >0.7746</td>\n",
       "      <td id=\"T_cef25_row0_col6\" class=\"data row0 col6\" >0.6434</td>\n",
       "      <td id=\"T_cef25_row0_col7\" class=\"data row0 col7\" >0.6456</td>\n",
       "    </tr>\n",
       "  </tbody>\n",
       "</table>\n"
      ],
      "text/plain": [
       "<pandas.io.formats.style.Styler at 0x7f33e1c12590>"
      ]
     },
     "metadata": {},
     "output_type": "display_data"
    }
   ],
   "source": [
    "holdout_preds = predict_model(best_model)"
   ]
  },
  {
   "cell_type": "markdown",
   "id": "d5380325",
   "metadata": {},
   "source": [
    "## Models Serialization\n",
    "Serializing feature extraction as well as ml classification models."
   ]
  },
  {
   "cell_type": "code",
   "execution_count": 18,
   "id": "27bacd52",
   "metadata": {},
   "outputs": [],
   "source": [
    "# best feature extraction icnn model\n",
    "best_feature_extractor.save(\n",
    "    os.path.join(\"..\",\"..\", \"models\", \"updatedInception\", \"surrogate_data_4_classes_best_feature_extractor\"),\n",
    "    overwrite=True,\n",
    "    include_optimizer=True,\n",
    "    save_format=\"h5\",\n",
    ")"
   ]
  },
  {
   "cell_type": "markdown",
   "id": "b6b8451f",
   "metadata": {},
   "source": [
    "## Data Serialization\n",
    "Serializing the processed train and holdout validation sets."
   ]
  },
  {
   "cell_type": "code",
   "execution_count": 19,
   "id": "e4ea49a2",
   "metadata": {},
   "outputs": [],
   "source": [
    "train_features_df.to_csv(os.path.join(\"..\",\"..\", \"data\", \"finalized\",\"updatedInception\", \"surrogate_data_4_classes_train_df.csv\"), index=False)\n",
    "holdout_features_df.to_csv(os.path.join(\"..\",\"..\", \"data\", \"finalized\",\"updatedInception\", \"surrogate_data_4_classes_holdout_df.csv\"), index=False)"
   ]
  },
  {
   "cell_type": "markdown",
   "id": "25db9c28",
   "metadata": {},
   "source": [
    "## Ploting model\n",
    "\n",
    "ploting the confusion_matrix:"
   ]
  },
  {
   "cell_type": "code",
   "execution_count": 20,
   "id": "ad4da2b9",
   "metadata": {
    "scrolled": true
   },
   "outputs": [
    {
     "name": "stderr",
     "output_type": "stream",
     "text": [
      "findfont: Generic family 'sans-serif' not found because none of the following families were found: Arial, Liberation Sans, Bitstream Vera Sans, sans-serif\n",
      "findfont: Generic family 'sans-serif' not found because none of the following families were found: Arial, Liberation Sans, Bitstream Vera Sans, sans-serif\n",
      "findfont: Generic family 'sans-serif' not found because none of the following families were found: Arial, Liberation Sans, Bitstream Vera Sans, sans-serif\n",
      "findfont: Generic family 'sans-serif' not found because none of the following families were found: Arial, Liberation Sans, Bitstream Vera Sans, sans-serif\n",
      "findfont: Generic family 'sans-serif' not found because none of the following families were found: Arial, Liberation Sans, Bitstream Vera Sans, sans-serif\n",
      "findfont: Generic family 'sans-serif' not found because none of the following families were found: Arial, Liberation Sans, Bitstream Vera Sans, sans-serif\n",
      "findfont: Generic family 'sans-serif' not found because none of the following families were found: Arial, Liberation Sans, Bitstream Vera Sans, sans-serif\n",
      "findfont: Generic family 'sans-serif' not found because none of the following families were found: Arial, Liberation Sans, Bitstream Vera Sans, sans-serif\n",
      "findfont: Generic family 'sans-serif' not found because none of the following families were found: Arial, Liberation Sans, Bitstream Vera Sans, sans-serif\n",
      "findfont: Generic family 'sans-serif' not found because none of the following families were found: Arial, Liberation Sans, Bitstream Vera Sans, sans-serif\n",
      "findfont: Generic family 'sans-serif' not found because none of the following families were found: Arial, Liberation Sans, Bitstream Vera Sans, sans-serif\n",
      "findfont: Generic family 'sans-serif' not found because none of the following families were found: Arial, Liberation Sans, Bitstream Vera Sans, sans-serif\n",
      "findfont: Generic family 'sans-serif' not found because none of the following families were found: Arial, Liberation Sans, Bitstream Vera Sans, sans-serif\n",
      "findfont: Generic family 'sans-serif' not found because none of the following families were found: Arial, Liberation Sans, Bitstream Vera Sans, sans-serif\n",
      "findfont: Generic family 'sans-serif' not found because none of the following families were found: Arial, Liberation Sans, Bitstream Vera Sans, sans-serif\n",
      "findfont: Generic family 'sans-serif' not found because none of the following families were found: Arial, Liberation Sans, Bitstream Vera Sans, sans-serif\n",
      "findfont: Generic family 'sans-serif' not found because none of the following families were found: Arial, Liberation Sans, Bitstream Vera Sans, sans-serif\n",
      "findfont: Generic family 'sans-serif' not found because none of the following families were found: Arial, Liberation Sans, Bitstream Vera Sans, sans-serif\n",
      "findfont: Generic family 'sans-serif' not found because none of the following families were found: Arial, Liberation Sans, Bitstream Vera Sans, sans-serif\n",
      "findfont: Generic family 'sans-serif' not found because none of the following families were found: Arial, Liberation Sans, Bitstream Vera Sans, sans-serif\n",
      "findfont: Generic family 'sans-serif' not found because none of the following families were found: Arial, Liberation Sans, Bitstream Vera Sans, sans-serif\n",
      "findfont: Generic family 'sans-serif' not found because none of the following families were found: Arial, Liberation Sans, Bitstream Vera Sans, sans-serif\n",
      "findfont: Generic family 'sans-serif' not found because none of the following families were found: Arial, Liberation Sans, Bitstream Vera Sans, sans-serif\n",
      "findfont: Generic family 'sans-serif' not found because none of the following families were found: Arial, Liberation Sans, Bitstream Vera Sans, sans-serif\n",
      "findfont: Generic family 'sans-serif' not found because none of the following families were found: Arial, Liberation Sans, Bitstream Vera Sans, sans-serif\n",
      "findfont: Generic family 'sans-serif' not found because none of the following families were found: Arial, Liberation Sans, Bitstream Vera Sans, sans-serif\n",
      "findfont: Generic family 'sans-serif' not found because none of the following families were found: Arial, Liberation Sans, Bitstream Vera Sans, sans-serif\n",
      "findfont: Generic family 'sans-serif' not found because none of the following families were found: Arial, Liberation Sans, Bitstream Vera Sans, sans-serif\n",
      "findfont: Generic family 'sans-serif' not found because none of the following families were found: Arial, Liberation Sans, Bitstream Vera Sans, sans-serif\n",
      "findfont: Generic family 'sans-serif' not found because none of the following families were found: Arial, Liberation Sans, Bitstream Vera Sans, sans-serif\n",
      "findfont: Generic family 'sans-serif' not found because none of the following families were found: Arial, Liberation Sans, Bitstream Vera Sans, sans-serif\n",
      "findfont: Generic family 'sans-serif' not found because none of the following families were found: Arial, Liberation Sans, Bitstream Vera Sans, sans-serif\n",
      "findfont: Generic family 'sans-serif' not found because none of the following families were found: Arial, Liberation Sans, Bitstream Vera Sans, sans-serif\n",
      "findfont: Generic family 'sans-serif' not found because none of the following families were found: Arial, Liberation Sans, Bitstream Vera Sans, sans-serif\n",
      "findfont: Generic family 'sans-serif' not found because none of the following families were found: Arial, Liberation Sans, Bitstream Vera Sans, sans-serif\n",
      "findfont: Generic family 'sans-serif' not found because none of the following families were found: Arial, Liberation Sans, Bitstream Vera Sans, sans-serif\n",
      "findfont: Generic family 'sans-serif' not found because none of the following families were found: Arial, Liberation Sans, Bitstream Vera Sans, sans-serif\n",
      "findfont: Generic family 'sans-serif' not found because none of the following families were found: Arial, Liberation Sans, Bitstream Vera Sans, sans-serif\n",
      "findfont: Generic family 'sans-serif' not found because none of the following families were found: Arial, Liberation Sans, Bitstream Vera Sans, sans-serif\n",
      "findfont: Generic family 'sans-serif' not found because none of the following families were found: Arial, Liberation Sans, Bitstream Vera Sans, sans-serif\n",
      "findfont: Generic family 'sans-serif' not found because none of the following families were found: Arial, Liberation Sans, Bitstream Vera Sans, sans-serif\n",
      "findfont: Generic family 'sans-serif' not found because none of the following families were found: Arial, Liberation Sans, Bitstream Vera Sans, sans-serif\n",
      "findfont: Generic family 'sans-serif' not found because none of the following families were found: Arial, Liberation Sans, Bitstream Vera Sans, sans-serif\n",
      "findfont: Generic family 'sans-serif' not found because none of the following families were found: Arial, Liberation Sans, Bitstream Vera Sans, sans-serif\n",
      "findfont: Generic family 'sans-serif' not found because none of the following families were found: Arial, Liberation Sans, Bitstream Vera Sans, sans-serif\n",
      "findfont: Generic family 'sans-serif' not found because none of the following families were found: Arial, Liberation Sans, Bitstream Vera Sans, sans-serif\n",
      "findfont: Generic family 'sans-serif' not found because none of the following families were found: Arial, Liberation Sans, Bitstream Vera Sans, sans-serif\n",
      "findfont: Generic family 'sans-serif' not found because none of the following families were found: Arial, Liberation Sans, Bitstream Vera Sans, sans-serif\n",
      "findfont: Generic family 'sans-serif' not found because none of the following families were found: Arial, Liberation Sans, Bitstream Vera Sans, sans-serif\n",
      "findfont: Generic family 'sans-serif' not found because none of the following families were found: Arial, Liberation Sans, Bitstream Vera Sans, sans-serif\n",
      "findfont: Generic family 'sans-serif' not found because none of the following families were found: Arial, Liberation Sans, Bitstream Vera Sans, sans-serif\n",
      "findfont: Generic family 'sans-serif' not found because none of the following families were found: Arial, Liberation Sans, Bitstream Vera Sans, sans-serif\n",
      "findfont: Generic family 'sans-serif' not found because none of the following families were found: Arial, Liberation Sans, Bitstream Vera Sans, sans-serif\n"
     ]
    },
    {
     "name": "stderr",
     "output_type": "stream",
     "text": [
      "findfont: Generic family 'sans-serif' not found because none of the following families were found: Arial, Liberation Sans, Bitstream Vera Sans, sans-serif\n",
      "findfont: Generic family 'sans-serif' not found because none of the following families were found: Arial, Liberation Sans, Bitstream Vera Sans, sans-serif\n",
      "findfont: Generic family 'sans-serif' not found because none of the following families were found: Arial, Liberation Sans, Bitstream Vera Sans, sans-serif\n",
      "findfont: Generic family 'sans-serif' not found because none of the following families were found: Arial, Liberation Sans, Bitstream Vera Sans, sans-serif\n",
      "findfont: Generic family 'sans-serif' not found because none of the following families were found: Arial, Liberation Sans, Bitstream Vera Sans, sans-serif\n",
      "findfont: Generic family 'sans-serif' not found because none of the following families were found: Arial, Liberation Sans, Bitstream Vera Sans, sans-serif\n",
      "findfont: Generic family 'sans-serif' not found because none of the following families were found: Arial, Liberation Sans, Bitstream Vera Sans, sans-serif\n",
      "findfont: Generic family 'sans-serif' not found because none of the following families were found: Arial, Liberation Sans, Bitstream Vera Sans, sans-serif\n",
      "findfont: Generic family 'sans-serif' not found because none of the following families were found: Arial, Liberation Sans, Bitstream Vera Sans, sans-serif\n",
      "findfont: Generic family 'sans-serif' not found because none of the following families were found: Arial, Liberation Sans, Bitstream Vera Sans, sans-serif\n",
      "findfont: Generic family 'sans-serif' not found because none of the following families were found: Arial, Liberation Sans, Bitstream Vera Sans, sans-serif\n",
      "findfont: Generic family 'sans-serif' not found because none of the following families were found: Arial, Liberation Sans, Bitstream Vera Sans, sans-serif\n",
      "findfont: Generic family 'sans-serif' not found because none of the following families were found: Arial, Liberation Sans, Bitstream Vera Sans, sans-serif\n",
      "findfont: Generic family 'sans-serif' not found because none of the following families were found: Arial, Liberation Sans, Bitstream Vera Sans, sans-serif\n",
      "findfont: Generic family 'sans-serif' not found because none of the following families were found: Arial, Liberation Sans, Bitstream Vera Sans, sans-serif\n",
      "findfont: Generic family 'sans-serif' not found because none of the following families were found: Arial, Liberation Sans, Bitstream Vera Sans, sans-serif\n",
      "findfont: Generic family 'sans-serif' not found because none of the following families were found: Arial, Liberation Sans, Bitstream Vera Sans, sans-serif\n",
      "findfont: Generic family 'sans-serif' not found because none of the following families were found: Arial, Liberation Sans, Bitstream Vera Sans, sans-serif\n"
     ]
    },
    {
     "data": {
      "image/png": "[encoded data removed]",
      "text/plain": [
       "<Figure size 432x288 with 1 Axes>"
      ]
     },
     "metadata": {
      "needs_background": "light"
     },
     "output_type": "display_data"
    }
   ],
   "source": [
    "plot_model(\n",
    "    best_model, \n",
    "    plot = 'confusion_matrix',\n",
    "    use_train_data = False,\n",
    ")"
   ]
  },
  {
   "cell_type": "code",
   "execution_count": 21,
   "id": "e171c65f",
   "metadata": {
    "scrolled": true
   },
   "outputs": [
    {
     "name": "stderr",
     "output_type": "stream",
     "text": [
      "findfont: Generic family 'sans-serif' not found because none of the following families were found: Arial, Liberation Sans, Bitstream Vera Sans, sans-serif\n",
      "findfont: Generic family 'sans-serif' not found because none of the following families were found: Arial, Liberation Sans, Bitstream Vera Sans, sans-serif\n",
      "findfont: Generic family 'sans-serif' not found because none of the following families were found: Arial, Liberation Sans, Bitstream Vera Sans, sans-serif\n",
      "findfont: Generic family 'sans-serif' not found because none of the following families were found: Arial, Liberation Sans, Bitstream Vera Sans, sans-serif\n",
      "findfont: Generic family 'sans-serif' not found because none of the following families were found: Arial, Liberation Sans, Bitstream Vera Sans, sans-serif\n",
      "findfont: Generic family 'sans-serif' not found because none of the following families were found: Arial, Liberation Sans, Bitstream Vera Sans, sans-serif\n",
      "findfont: Generic family 'sans-serif' not found because none of the following families were found: Arial, Liberation Sans, Bitstream Vera Sans, sans-serif\n",
      "findfont: Generic family 'sans-serif' not found because none of the following families were found: Arial, Liberation Sans, Bitstream Vera Sans, sans-serif\n",
      "findfont: Generic family 'sans-serif' not found because none of the following families were found: Arial, Liberation Sans, Bitstream Vera Sans, sans-serif\n",
      "findfont: Generic family 'sans-serif' not found because none of the following families were found: Arial, Liberation Sans, Bitstream Vera Sans, sans-serif\n",
      "findfont: Generic family 'sans-serif' not found because none of the following families were found: Arial, Liberation Sans, Bitstream Vera Sans, sans-serif\n",
      "findfont: Generic family 'sans-serif' not found because none of the following families were found: Arial, Liberation Sans, Bitstream Vera Sans, sans-serif\n",
      "findfont: Generic family 'sans-serif' not found because none of the following families were found: Arial, Liberation Sans, Bitstream Vera Sans, sans-serif\n",
      "findfont: Generic family 'sans-serif' not found because none of the following families were found: Arial, Liberation Sans, Bitstream Vera Sans, sans-serif\n",
      "findfont: Generic family 'sans-serif' not found because none of the following families were found: Arial, Liberation Sans, Bitstream Vera Sans, sans-serif\n",
      "findfont: Generic family 'sans-serif' not found because none of the following families were found: Arial, Liberation Sans, Bitstream Vera Sans, sans-serif\n",
      "findfont: Generic family 'sans-serif' not found because none of the following families were found: Arial, Liberation Sans, Bitstream Vera Sans, sans-serif\n",
      "findfont: Generic family 'sans-serif' not found because none of the following families were found: Arial, Liberation Sans, Bitstream Vera Sans, sans-serif\n",
      "findfont: Generic family 'sans-serif' not found because none of the following families were found: Arial, Liberation Sans, Bitstream Vera Sans, sans-serif\n",
      "findfont: Generic family 'sans-serif' not found because none of the following families were found: Arial, Liberation Sans, Bitstream Vera Sans, sans-serif\n",
      "findfont: Generic family 'sans-serif' not found because none of the following families were found: Arial, Liberation Sans, Bitstream Vera Sans, sans-serif\n",
      "findfont: Generic family 'sans-serif' not found because none of the following families were found: Arial, Liberation Sans, Bitstream Vera Sans, sans-serif\n",
      "findfont: Generic family 'sans-serif' not found because none of the following families were found: Arial, Liberation Sans, Bitstream Vera Sans, sans-serif\n",
      "findfont: Generic family 'sans-serif' not found because none of the following families were found: Arial, Liberation Sans, Bitstream Vera Sans, sans-serif\n",
      "findfont: Generic family 'sans-serif' not found because none of the following families were found: Arial, Liberation Sans, Bitstream Vera Sans, sans-serif\n",
      "findfont: Generic family 'sans-serif' not found because none of the following families were found: Arial, Liberation Sans, Bitstream Vera Sans, sans-serif\n",
      "findfont: Generic family 'sans-serif' not found because none of the following families were found: Arial, Liberation Sans, Bitstream Vera Sans, sans-serif\n",
      "findfont: Generic family 'sans-serif' not found because none of the following families were found: Arial, Liberation Sans, Bitstream Vera Sans, sans-serif\n",
      "findfont: Generic family 'sans-serif' not found because none of the following families were found: Arial, Liberation Sans, Bitstream Vera Sans, sans-serif\n",
      "findfont: Generic family 'sans-serif' not found because none of the following families were found: Arial, Liberation Sans, Bitstream Vera Sans, sans-serif\n",
      "findfont: Generic family 'sans-serif' not found because none of the following families were found: Arial, Liberation Sans, Bitstream Vera Sans, sans-serif\n",
      "findfont: Generic family 'sans-serif' not found because none of the following families were found: Arial, Liberation Sans, Bitstream Vera Sans, sans-serif\n",
      "findfont: Generic family 'sans-serif' not found because none of the following families were found: Arial, Liberation Sans, Bitstream Vera Sans, sans-serif\n",
      "findfont: Generic family 'sans-serif' not found because none of the following families were found: Arial, Liberation Sans, Bitstream Vera Sans, sans-serif\n",
      "findfont: Generic family 'sans-serif' not found because none of the following families were found: Arial, Liberation Sans, Bitstream Vera Sans, sans-serif\n",
      "findfont: Generic family 'sans-serif' not found because none of the following families were found: Arial, Liberation Sans, Bitstream Vera Sans, sans-serif\n",
      "findfont: Generic family 'sans-serif' not found because none of the following families were found: Arial, Liberation Sans, Bitstream Vera Sans, sans-serif\n",
      "findfont: Generic family 'sans-serif' not found because none of the following families were found: Arial, Liberation Sans, Bitstream Vera Sans, sans-serif\n",
      "findfont: Generic family 'sans-serif' not found because none of the following families were found: Arial, Liberation Sans, Bitstream Vera Sans, sans-serif\n",
      "findfont: Generic family 'sans-serif' not found because none of the following families were found: Arial, Liberation Sans, Bitstream Vera Sans, sans-serif\n",
      "findfont: Generic family 'sans-serif' not found because none of the following families were found: Arial, Liberation Sans, Bitstream Vera Sans, sans-serif\n",
      "findfont: Generic family 'sans-serif' not found because none of the following families were found: Arial, Liberation Sans, Bitstream Vera Sans, sans-serif\n",
      "findfont: Generic family 'sans-serif' not found because none of the following families were found: Arial, Liberation Sans, Bitstream Vera Sans, sans-serif\n",
      "findfont: Generic family 'sans-serif' not found because none of the following families were found: Arial, Liberation Sans, Bitstream Vera Sans, sans-serif\n",
      "findfont: Generic family 'sans-serif' not found because none of the following families were found: Arial, Liberation Sans, Bitstream Vera Sans, sans-serif\n",
      "findfont: Generic family 'sans-serif' not found because none of the following families were found: Arial, Liberation Sans, Bitstream Vera Sans, sans-serif\n",
      "findfont: Generic family 'sans-serif' not found because none of the following families were found: Arial, Liberation Sans, Bitstream Vera Sans, sans-serif\n",
      "findfont: Generic family 'sans-serif' not found because none of the following families were found: Arial, Liberation Sans, Bitstream Vera Sans, sans-serif\n",
      "findfont: Generic family 'sans-serif' not found because none of the following families were found: Arial, Liberation Sans, Bitstream Vera Sans, sans-serif\n",
      "findfont: Generic family 'sans-serif' not found because none of the following families were found: Arial, Liberation Sans, Bitstream Vera Sans, sans-serif\n",
      "findfont: Generic family 'sans-serif' not found because none of the following families were found: Arial, Liberation Sans, Bitstream Vera Sans, sans-serif\n",
      "findfont: Generic family 'sans-serif' not found because none of the following families were found: Arial, Liberation Sans, Bitstream Vera Sans, sans-serif\n",
      "findfont: Generic family 'sans-serif' not found because none of the following families were found: Arial, Liberation Sans, Bitstream Vera Sans, sans-serif\n"
     ]
    },
    {
     "name": "stderr",
     "output_type": "stream",
     "text": [
      "findfont: Generic family 'sans-serif' not found because none of the following families were found: Arial, Liberation Sans, Bitstream Vera Sans, sans-serif\n",
      "findfont: Generic family 'sans-serif' not found because none of the following families were found: Arial, Liberation Sans, Bitstream Vera Sans, sans-serif\n",
      "findfont: Generic family 'sans-serif' not found because none of the following families were found: Arial, Liberation Sans, Bitstream Vera Sans, sans-serif\n",
      "findfont: Generic family 'sans-serif' not found because none of the following families were found: Arial, Liberation Sans, Bitstream Vera Sans, sans-serif\n",
      "findfont: Generic family 'sans-serif' not found because none of the following families were found: Arial, Liberation Sans, Bitstream Vera Sans, sans-serif\n",
      "findfont: Generic family 'sans-serif' not found because none of the following families were found: Arial, Liberation Sans, Bitstream Vera Sans, sans-serif\n",
      "findfont: Generic family 'sans-serif' not found because none of the following families were found: Arial, Liberation Sans, Bitstream Vera Sans, sans-serif\n",
      "findfont: Generic family 'sans-serif' not found because none of the following families were found: Arial, Liberation Sans, Bitstream Vera Sans, sans-serif\n",
      "findfont: Generic family 'sans-serif' not found because none of the following families were found: Arial, Liberation Sans, Bitstream Vera Sans, sans-serif\n",
      "findfont: Generic family 'sans-serif' not found because none of the following families were found: Arial, Liberation Sans, Bitstream Vera Sans, sans-serif\n",
      "findfont: Generic family 'sans-serif' not found because none of the following families were found: Arial, Liberation Sans, Bitstream Vera Sans, sans-serif\n",
      "findfont: Generic family 'sans-serif' not found because none of the following families were found: Arial, Liberation Sans, Bitstream Vera Sans, sans-serif\n",
      "findfont: Generic family 'sans-serif' not found because none of the following families were found: Arial, Liberation Sans, Bitstream Vera Sans, sans-serif\n",
      "findfont: Generic family 'sans-serif' not found because none of the following families were found: Arial, Liberation Sans, Bitstream Vera Sans, sans-serif\n",
      "findfont: Generic family 'sans-serif' not found because none of the following families were found: Arial, Liberation Sans, Bitstream Vera Sans, sans-serif\n",
      "findfont: Generic family 'sans-serif' not found because none of the following families were found: Arial, Liberation Sans, Bitstream Vera Sans, sans-serif\n",
      "findfont: Generic family 'sans-serif' not found because none of the following families were found: Arial, Liberation Sans, Bitstream Vera Sans, sans-serif\n",
      "findfont: Generic family 'sans-serif' not found because none of the following families were found: Arial, Liberation Sans, Bitstream Vera Sans, sans-serif\n",
      "findfont: Generic family 'sans-serif' not found because none of the following families were found: Arial, Liberation Sans, Bitstream Vera Sans, sans-serif\n",
      "findfont: Generic family 'sans-serif' not found because none of the following families were found: Arial, Liberation Sans, Bitstream Vera Sans, sans-serif\n",
      "findfont: Generic family 'sans-serif' not found because none of the following families were found: Arial, Liberation Sans, Bitstream Vera Sans, sans-serif\n",
      "findfont: Generic family 'sans-serif' not found because none of the following families were found: Arial, Liberation Sans, Bitstream Vera Sans, sans-serif\n",
      "findfont: Generic family 'sans-serif' not found because none of the following families were found: Arial, Liberation Sans, Bitstream Vera Sans, sans-serif\n",
      "findfont: Generic family 'sans-serif' not found because none of the following families were found: Arial, Liberation Sans, Bitstream Vera Sans, sans-serif\n",
      "findfont: Generic family 'sans-serif' not found because none of the following families were found: Arial, Liberation Sans, Bitstream Vera Sans, sans-serif\n",
      "findfont: Generic family 'sans-serif' not found because none of the following families were found: Arial, Liberation Sans, Bitstream Vera Sans, sans-serif\n",
      "findfont: Generic family 'sans-serif' not found because none of the following families were found: Arial, Liberation Sans, Bitstream Vera Sans, sans-serif\n"
     ]
    },
    {
     "data": {
      "image/png": "[encoded data removed]",
      "text/plain": [
       "<Figure size 432x288 with 1 Axes>"
      ]
     },
     "metadata": {
      "needs_background": "light"
     },
     "output_type": "display_data"
    }
   ],
   "source": [
    "plot_model(\n",
    "    best_model, \n",
    "    plot = 'learning'\n",
    ")"
   ]
  },
  {
   "cell_type": "code",
   "execution_count": 22,
   "id": "642b301b",
   "metadata": {
    "scrolled": true
   },
   "outputs": [
    {
     "name": "stderr",
     "output_type": "stream",
     "text": [
      "findfont: Generic family 'sans-serif' not found because none of the following families were found: Arial, Liberation Sans, Bitstream Vera Sans, sans-serif\n",
      "findfont: Generic family 'sans-serif' not found because none of the following families were found: Arial, Liberation Sans, Bitstream Vera Sans, sans-serif\n",
      "findfont: Generic family 'sans-serif' not found because none of the following families were found: Arial, Liberation Sans, Bitstream Vera Sans, sans-serif\n",
      "findfont: Generic family 'sans-serif' not found because none of the following families were found: Arial, Liberation Sans, Bitstream Vera Sans, sans-serif\n",
      "findfont: Generic family 'sans-serif' not found because none of the following families were found: Arial, Liberation Sans, Bitstream Vera Sans, sans-serif\n",
      "findfont: Generic family 'sans-serif' not found because none of the following families were found: Arial, Liberation Sans, Bitstream Vera Sans, sans-serif\n",
      "findfont: Generic family 'sans-serif' not found because none of the following families were found: Arial, Liberation Sans, Bitstream Vera Sans, sans-serif\n",
      "findfont: Generic family 'sans-serif' not found because none of the following families were found: Arial, Liberation Sans, Bitstream Vera Sans, sans-serif\n",
      "findfont: Generic family 'sans-serif' not found because none of the following families were found: Arial, Liberation Sans, Bitstream Vera Sans, sans-serif\n",
      "findfont: Generic family 'sans-serif' not found because none of the following families were found: Arial, Liberation Sans, Bitstream Vera Sans, sans-serif\n",
      "findfont: Generic family 'sans-serif' not found because none of the following families were found: Arial, Liberation Sans, Bitstream Vera Sans, sans-serif\n",
      "findfont: Generic family 'sans-serif' not found because none of the following families were found: Arial, Liberation Sans, Bitstream Vera Sans, sans-serif\n",
      "findfont: Generic family 'sans-serif' not found because none of the following families were found: Arial, Liberation Sans, Bitstream Vera Sans, sans-serif\n",
      "findfont: Generic family 'sans-serif' not found because none of the following families were found: Arial, Liberation Sans, Bitstream Vera Sans, sans-serif\n",
      "findfont: Generic family 'sans-serif' not found because none of the following families were found: Arial, Liberation Sans, Bitstream Vera Sans, sans-serif\n",
      "findfont: Generic family 'sans-serif' not found because none of the following families were found: Arial, Liberation Sans, Bitstream Vera Sans, sans-serif\n",
      "findfont: Generic family 'sans-serif' not found because none of the following families were found: Arial, Liberation Sans, Bitstream Vera Sans, sans-serif\n",
      "findfont: Generic family 'sans-serif' not found because none of the following families were found: Arial, Liberation Sans, Bitstream Vera Sans, sans-serif\n",
      "findfont: Generic family 'sans-serif' not found because none of the following families were found: Arial, Liberation Sans, Bitstream Vera Sans, sans-serif\n",
      "findfont: Generic family 'sans-serif' not found because none of the following families were found: Arial, Liberation Sans, Bitstream Vera Sans, sans-serif\n",
      "findfont: Generic family 'sans-serif' not found because none of the following families were found: Arial, Liberation Sans, Bitstream Vera Sans, sans-serif\n",
      "findfont: Generic family 'sans-serif' not found because none of the following families were found: Arial, Liberation Sans, Bitstream Vera Sans, sans-serif\n",
      "findfont: Generic family 'sans-serif' not found because none of the following families were found: Arial, Liberation Sans, Bitstream Vera Sans, sans-serif\n",
      "findfont: Generic family 'sans-serif' not found because none of the following families were found: Arial, Liberation Sans, Bitstream Vera Sans, sans-serif\n",
      "findfont: Generic family 'sans-serif' not found because none of the following families were found: Arial, Liberation Sans, Bitstream Vera Sans, sans-serif\n",
      "findfont: Generic family 'sans-serif' not found because none of the following families were found: Arial, Liberation Sans, Bitstream Vera Sans, sans-serif\n",
      "findfont: Generic family 'sans-serif' not found because none of the following families were found: Arial, Liberation Sans, Bitstream Vera Sans, sans-serif\n",
      "findfont: Generic family 'sans-serif' not found because none of the following families were found: Arial, Liberation Sans, Bitstream Vera Sans, sans-serif\n",
      "findfont: Generic family 'sans-serif' not found because none of the following families were found: Arial, Liberation Sans, Bitstream Vera Sans, sans-serif\n",
      "findfont: Generic family 'sans-serif' not found because none of the following families were found: Arial, Liberation Sans, Bitstream Vera Sans, sans-serif\n",
      "findfont: Generic family 'sans-serif' not found because none of the following families were found: Arial, Liberation Sans, Bitstream Vera Sans, sans-serif\n",
      "findfont: Generic family 'sans-serif' not found because none of the following families were found: Arial, Liberation Sans, Bitstream Vera Sans, sans-serif\n",
      "findfont: Generic family 'sans-serif' not found because none of the following families were found: Arial, Liberation Sans, Bitstream Vera Sans, sans-serif\n",
      "findfont: Generic family 'sans-serif' not found because none of the following families were found: Arial, Liberation Sans, Bitstream Vera Sans, sans-serif\n",
      "findfont: Generic family 'sans-serif' not found because none of the following families were found: Arial, Liberation Sans, Bitstream Vera Sans, sans-serif\n",
      "findfont: Generic family 'sans-serif' not found because none of the following families were found: Arial, Liberation Sans, Bitstream Vera Sans, sans-serif\n",
      "findfont: Generic family 'sans-serif' not found because none of the following families were found: Arial, Liberation Sans, Bitstream Vera Sans, sans-serif\n",
      "findfont: Generic family 'sans-serif' not found because none of the following families were found: Arial, Liberation Sans, Bitstream Vera Sans, sans-serif\n",
      "findfont: Generic family 'sans-serif' not found because none of the following families were found: Arial, Liberation Sans, Bitstream Vera Sans, sans-serif\n",
      "findfont: Generic family 'sans-serif' not found because none of the following families were found: Arial, Liberation Sans, Bitstream Vera Sans, sans-serif\n",
      "findfont: Generic family 'sans-serif' not found because none of the following families were found: Arial, Liberation Sans, Bitstream Vera Sans, sans-serif\n",
      "findfont: Generic family 'sans-serif' not found because none of the following families were found: Arial, Liberation Sans, Bitstream Vera Sans, sans-serif\n",
      "findfont: Generic family 'sans-serif' not found because none of the following families were found: Arial, Liberation Sans, Bitstream Vera Sans, sans-serif\n",
      "findfont: Generic family 'sans-serif' not found because none of the following families were found: Arial, Liberation Sans, Bitstream Vera Sans, sans-serif\n",
      "findfont: Generic family 'sans-serif' not found because none of the following families were found: Arial, Liberation Sans, Bitstream Vera Sans, sans-serif\n",
      "findfont: Generic family 'sans-serif' not found because none of the following families were found: Arial, Liberation Sans, Bitstream Vera Sans, sans-serif\n",
      "findfont: Generic family 'sans-serif' not found because none of the following families were found: Arial, Liberation Sans, Bitstream Vera Sans, sans-serif\n",
      "findfont: Generic family 'sans-serif' not found because none of the following families were found: Arial, Liberation Sans, Bitstream Vera Sans, sans-serif\n",
      "findfont: Generic family 'sans-serif' not found because none of the following families were found: Arial, Liberation Sans, Bitstream Vera Sans, sans-serif\n",
      "findfont: Generic family 'sans-serif' not found because none of the following families were found: Arial, Liberation Sans, Bitstream Vera Sans, sans-serif\n",
      "findfont: Generic family 'sans-serif' not found because none of the following families were found: Arial, Liberation Sans, Bitstream Vera Sans, sans-serif\n",
      "findfont: Generic family 'sans-serif' not found because none of the following families were found: Arial, Liberation Sans, Bitstream Vera Sans, sans-serif\n",
      "findfont: Generic family 'sans-serif' not found because none of the following families were found: Arial, Liberation Sans, Bitstream Vera Sans, sans-serif\n"
     ]
    },
    {
     "name": "stderr",
     "output_type": "stream",
     "text": [
      "findfont: Generic family 'sans-serif' not found because none of the following families were found: Arial, Liberation Sans, Bitstream Vera Sans, sans-serif\n",
      "findfont: Generic family 'sans-serif' not found because none of the following families were found: Arial, Liberation Sans, Bitstream Vera Sans, sans-serif\n",
      "findfont: Generic family 'sans-serif' not found because none of the following families were found: Arial, Liberation Sans, Bitstream Vera Sans, sans-serif\n",
      "findfont: Generic family 'sans-serif' not found because none of the following families were found: Arial, Liberation Sans, Bitstream Vera Sans, sans-serif\n",
      "findfont: Generic family 'sans-serif' not found because none of the following families were found: Arial, Liberation Sans, Bitstream Vera Sans, sans-serif\n",
      "findfont: Generic family 'sans-serif' not found because none of the following families were found: Arial, Liberation Sans, Bitstream Vera Sans, sans-serif\n",
      "findfont: Generic family 'sans-serif' not found because none of the following families were found: Arial, Liberation Sans, Bitstream Vera Sans, sans-serif\n",
      "findfont: Generic family 'sans-serif' not found because none of the following families were found: Arial, Liberation Sans, Bitstream Vera Sans, sans-serif\n",
      "findfont: Generic family 'sans-serif' not found because none of the following families were found: Arial, Liberation Sans, Bitstream Vera Sans, sans-serif\n",
      "findfont: Generic family 'sans-serif' not found because none of the following families were found: Arial, Liberation Sans, Bitstream Vera Sans, sans-serif\n",
      "findfont: Generic family 'sans-serif' not found because none of the following families were found: Arial, Liberation Sans, Bitstream Vera Sans, sans-serif\n",
      "findfont: Generic family 'sans-serif' not found because none of the following families were found: Arial, Liberation Sans, Bitstream Vera Sans, sans-serif\n",
      "findfont: Generic family 'sans-serif' not found because none of the following families were found: Arial, Liberation Sans, Bitstream Vera Sans, sans-serif\n",
      "findfont: Generic family 'sans-serif' not found because none of the following families were found: Arial, Liberation Sans, Bitstream Vera Sans, sans-serif\n",
      "findfont: Generic family 'sans-serif' not found because none of the following families were found: Arial, Liberation Sans, Bitstream Vera Sans, sans-serif\n",
      "findfont: Generic family 'sans-serif' not found because none of the following families were found: Arial, Liberation Sans, Bitstream Vera Sans, sans-serif\n",
      "findfont: Generic family 'sans-serif' not found because none of the following families were found: Arial, Liberation Sans, Bitstream Vera Sans, sans-serif\n",
      "findfont: Generic family 'sans-serif' not found because none of the following families were found: Arial, Liberation Sans, Bitstream Vera Sans, sans-serif\n",
      "findfont: Generic family 'sans-serif' not found because none of the following families were found: Arial, Liberation Sans, Bitstream Vera Sans, sans-serif\n",
      "findfont: Generic family 'sans-serif' not found because none of the following families were found: Arial, Liberation Sans, Bitstream Vera Sans, sans-serif\n",
      "findfont: Generic family 'sans-serif' not found because none of the following families were found: Arial, Liberation Sans, Bitstream Vera Sans, sans-serif\n",
      "findfont: Generic family 'sans-serif' not found because none of the following families were found: Arial, Liberation Sans, Bitstream Vera Sans, sans-serif\n",
      "findfont: Generic family 'sans-serif' not found because none of the following families were found: Arial, Liberation Sans, Bitstream Vera Sans, sans-serif\n",
      "findfont: Generic family 'sans-serif' not found because none of the following families were found: Arial, Liberation Sans, Bitstream Vera Sans, sans-serif\n",
      "findfont: Generic family 'sans-serif' not found because none of the following families were found: Arial, Liberation Sans, Bitstream Vera Sans, sans-serif\n",
      "findfont: Generic family 'sans-serif' not found because none of the following families were found: Arial, Liberation Sans, Bitstream Vera Sans, sans-serif\n",
      "findfont: Generic family 'sans-serif' not found because none of the following families were found: Arial, Liberation Sans, Bitstream Vera Sans, sans-serif\n",
      "findfont: Generic family 'sans-serif' not found because none of the following families were found: Arial, Liberation Sans, Bitstream Vera Sans, sans-serif\n",
      "findfont: Generic family 'sans-serif' not found because none of the following families were found: Arial, Liberation Sans, Bitstream Vera Sans, sans-serif\n",
      "findfont: Generic family 'sans-serif' not found because none of the following families were found: Arial, Liberation Sans, Bitstream Vera Sans, sans-serif\n",
      "findfont: Generic family 'sans-serif' not found because none of the following families were found: Arial, Liberation Sans, Bitstream Vera Sans, sans-serif\n",
      "findfont: Generic family 'sans-serif' not found because none of the following families were found: Arial, Liberation Sans, Bitstream Vera Sans, sans-serif\n",
      "findfont: Generic family 'sans-serif' not found because none of the following families were found: Arial, Liberation Sans, Bitstream Vera Sans, sans-serif\n",
      "findfont: Generic family 'sans-serif' not found because none of the following families were found: Arial, Liberation Sans, Bitstream Vera Sans, sans-serif\n",
      "findfont: Generic family 'sans-serif' not found because none of the following families were found: Arial, Liberation Sans, Bitstream Vera Sans, sans-serif\n",
      "findfont: Generic family 'sans-serif' not found because none of the following families were found: Arial, Liberation Sans, Bitstream Vera Sans, sans-serif\n",
      "findfont: Generic family 'sans-serif' not found because none of the following families were found: Arial, Liberation Sans, Bitstream Vera Sans, sans-serif\n",
      "findfont: Generic family 'sans-serif' not found because none of the following families were found: Arial, Liberation Sans, Bitstream Vera Sans, sans-serif\n",
      "findfont: Generic family 'sans-serif' not found because none of the following families were found: Arial, Liberation Sans, Bitstream Vera Sans, sans-serif\n",
      "findfont: Generic family 'sans-serif' not found because none of the following families were found: Arial, Liberation Sans, Bitstream Vera Sans, sans-serif\n",
      "findfont: Generic family 'sans-serif' not found because none of the following families were found: Arial, Liberation Sans, Bitstream Vera Sans, sans-serif\n",
      "findfont: Generic family 'sans-serif' not found because none of the following families were found: Arial, Liberation Sans, Bitstream Vera Sans, sans-serif\n",
      "findfont: Generic family 'sans-serif' not found because none of the following families were found: Arial, Liberation Sans, Bitstream Vera Sans, sans-serif\n",
      "findfont: Generic family 'sans-serif' not found because none of the following families were found: Arial, Liberation Sans, Bitstream Vera Sans, sans-serif\n"
     ]
    },
    {
     "data": {
      "image/png": "[encoded data removed]",
      "text/plain": [
       "<Figure size 432x288 with 1 Axes>"
      ]
     },
     "metadata": {
      "needs_background": "light"
     },
     "output_type": "display_data"
    }
   ],
   "source": [
    "plot_model(\n",
    "    best_model, \n",
    "    plot = 'boundary'\n",
    ")"
   ]
  },
  {
   "cell_type": "markdown",
   "id": "3f3f24f1",
   "metadata": {},
   "source": [
    "ploting the learning curve:"
   ]
  },
  {
   "cell_type": "code",
   "execution_count": 23,
   "id": "d0c8ab25",
   "metadata": {},
   "outputs": [
    {
     "name": "stderr",
     "output_type": "stream",
     "text": [
      "findfont: Generic family 'sans-serif' not found because none of the following families were found: Arial, Liberation Sans, Bitstream Vera Sans, sans-serif\n",
      "findfont: Generic family 'sans-serif' not found because none of the following families were found: Arial, Liberation Sans, Bitstream Vera Sans, sans-serif\n",
      "findfont: Generic family 'sans-serif' not found because none of the following families were found: Arial, Liberation Sans, Bitstream Vera Sans, sans-serif\n",
      "findfont: Generic family 'sans-serif' not found because none of the following families were found: Arial, Liberation Sans, Bitstream Vera Sans, sans-serif\n",
      "findfont: Generic family 'sans-serif' not found because none of the following families were found: Arial, Liberation Sans, Bitstream Vera Sans, sans-serif\n",
      "findfont: Generic family 'sans-serif' not found because none of the following families were found: Arial, Liberation Sans, Bitstream Vera Sans, sans-serif\n",
      "findfont: Generic family 'sans-serif' not found because none of the following families were found: Arial, Liberation Sans, Bitstream Vera Sans, sans-serif\n",
      "findfont: Generic family 'sans-serif' not found because none of the following families were found: Arial, Liberation Sans, Bitstream Vera Sans, sans-serif\n",
      "findfont: Generic family 'sans-serif' not found because none of the following families were found: Arial, Liberation Sans, Bitstream Vera Sans, sans-serif\n",
      "findfont: Generic family 'sans-serif' not found because none of the following families were found: Arial, Liberation Sans, Bitstream Vera Sans, sans-serif\n",
      "findfont: Generic family 'sans-serif' not found because none of the following families were found: Arial, Liberation Sans, Bitstream Vera Sans, sans-serif\n",
      "findfont: Generic family 'sans-serif' not found because none of the following families were found: Arial, Liberation Sans, Bitstream Vera Sans, sans-serif\n",
      "findfont: Generic family 'sans-serif' not found because none of the following families were found: Arial, Liberation Sans, Bitstream Vera Sans, sans-serif\n",
      "findfont: Generic family 'sans-serif' not found because none of the following families were found: Arial, Liberation Sans, Bitstream Vera Sans, sans-serif\n",
      "findfont: Generic family 'sans-serif' not found because none of the following families were found: Arial, Liberation Sans, Bitstream Vera Sans, sans-serif\n",
      "findfont: Generic family 'sans-serif' not found because none of the following families were found: Arial, Liberation Sans, Bitstream Vera Sans, sans-serif\n",
      "findfont: Generic family 'sans-serif' not found because none of the following families were found: Arial, Liberation Sans, Bitstream Vera Sans, sans-serif\n",
      "findfont: Generic family 'sans-serif' not found because none of the following families were found: Arial, Liberation Sans, Bitstream Vera Sans, sans-serif\n",
      "findfont: Generic family 'sans-serif' not found because none of the following families were found: Arial, Liberation Sans, Bitstream Vera Sans, sans-serif\n",
      "findfont: Generic family 'sans-serif' not found because none of the following families were found: Arial, Liberation Sans, Bitstream Vera Sans, sans-serif\n",
      "findfont: Generic family 'sans-serif' not found because none of the following families were found: Arial, Liberation Sans, Bitstream Vera Sans, sans-serif\n",
      "findfont: Generic family 'sans-serif' not found because none of the following families were found: Arial, Liberation Sans, Bitstream Vera Sans, sans-serif\n",
      "findfont: Generic family 'sans-serif' not found because none of the following families were found: Arial, Liberation Sans, Bitstream Vera Sans, sans-serif\n",
      "findfont: Generic family 'sans-serif' not found because none of the following families were found: Arial, Liberation Sans, Bitstream Vera Sans, sans-serif\n",
      "findfont: Generic family 'sans-serif' not found because none of the following families were found: Arial, Liberation Sans, Bitstream Vera Sans, sans-serif\n",
      "findfont: Generic family 'sans-serif' not found because none of the following families were found: Arial, Liberation Sans, Bitstream Vera Sans, sans-serif\n",
      "findfont: Generic family 'sans-serif' not found because none of the following families were found: Arial, Liberation Sans, Bitstream Vera Sans, sans-serif\n",
      "findfont: Generic family 'sans-serif' not found because none of the following families were found: Arial, Liberation Sans, Bitstream Vera Sans, sans-serif\n",
      "findfont: Generic family 'sans-serif' not found because none of the following families were found: Arial, Liberation Sans, Bitstream Vera Sans, sans-serif\n",
      "findfont: Generic family 'sans-serif' not found because none of the following families were found: Arial, Liberation Sans, Bitstream Vera Sans, sans-serif\n",
      "findfont: Generic family 'sans-serif' not found because none of the following families were found: Arial, Liberation Sans, Bitstream Vera Sans, sans-serif\n",
      "findfont: Generic family 'sans-serif' not found because none of the following families were found: Arial, Liberation Sans, Bitstream Vera Sans, sans-serif\n",
      "findfont: Generic family 'sans-serif' not found because none of the following families were found: Arial, Liberation Sans, Bitstream Vera Sans, sans-serif\n",
      "findfont: Generic family 'sans-serif' not found because none of the following families were found: Arial, Liberation Sans, Bitstream Vera Sans, sans-serif\n",
      "findfont: Generic family 'sans-serif' not found because none of the following families were found: Arial, Liberation Sans, Bitstream Vera Sans, sans-serif\n",
      "findfont: Generic family 'sans-serif' not found because none of the following families were found: Arial, Liberation Sans, Bitstream Vera Sans, sans-serif\n",
      "findfont: Generic family 'sans-serif' not found because none of the following families were found: Arial, Liberation Sans, Bitstream Vera Sans, sans-serif\n",
      "findfont: Generic family 'sans-serif' not found because none of the following families were found: Arial, Liberation Sans, Bitstream Vera Sans, sans-serif\n",
      "findfont: Generic family 'sans-serif' not found because none of the following families were found: Arial, Liberation Sans, Bitstream Vera Sans, sans-serif\n",
      "findfont: Generic family 'sans-serif' not found because none of the following families were found: Arial, Liberation Sans, Bitstream Vera Sans, sans-serif\n",
      "findfont: Generic family 'sans-serif' not found because none of the following families were found: Arial, Liberation Sans, Bitstream Vera Sans, sans-serif\n",
      "findfont: Generic family 'sans-serif' not found because none of the following families were found: Arial, Liberation Sans, Bitstream Vera Sans, sans-serif\n",
      "findfont: Generic family 'sans-serif' not found because none of the following families were found: Arial, Liberation Sans, Bitstream Vera Sans, sans-serif\n",
      "findfont: Generic family 'sans-serif' not found because none of the following families were found: Arial, Liberation Sans, Bitstream Vera Sans, sans-serif\n",
      "findfont: Generic family 'sans-serif' not found because none of the following families were found: Arial, Liberation Sans, Bitstream Vera Sans, sans-serif\n",
      "findfont: Generic family 'sans-serif' not found because none of the following families were found: Arial, Liberation Sans, Bitstream Vera Sans, sans-serif\n",
      "findfont: Generic family 'sans-serif' not found because none of the following families were found: Arial, Liberation Sans, Bitstream Vera Sans, sans-serif\n",
      "findfont: Generic family 'sans-serif' not found because none of the following families were found: Arial, Liberation Sans, Bitstream Vera Sans, sans-serif\n",
      "findfont: Generic family 'sans-serif' not found because none of the following families were found: Arial, Liberation Sans, Bitstream Vera Sans, sans-serif\n",
      "findfont: Generic family 'sans-serif' not found because none of the following families were found: Arial, Liberation Sans, Bitstream Vera Sans, sans-serif\n",
      "findfont: Generic family 'sans-serif' not found because none of the following families were found: Arial, Liberation Sans, Bitstream Vera Sans, sans-serif\n",
      "findfont: Generic family 'sans-serif' not found because none of the following families were found: Arial, Liberation Sans, Bitstream Vera Sans, sans-serif\n",
      "findfont: Generic family 'sans-serif' not found because none of the following families were found: Arial, Liberation Sans, Bitstream Vera Sans, sans-serif\n"
     ]
    },
    {
     "name": "stderr",
     "output_type": "stream",
     "text": [
      "findfont: Generic family 'sans-serif' not found because none of the following families were found: Arial, Liberation Sans, Bitstream Vera Sans, sans-serif\n",
      "findfont: Generic family 'sans-serif' not found because none of the following families were found: Arial, Liberation Sans, Bitstream Vera Sans, sans-serif\n",
      "findfont: Generic family 'sans-serif' not found because none of the following families were found: Arial, Liberation Sans, Bitstream Vera Sans, sans-serif\n",
      "findfont: Generic family 'sans-serif' not found because none of the following families were found: Arial, Liberation Sans, Bitstream Vera Sans, sans-serif\n",
      "findfont: Generic family 'sans-serif' not found because none of the following families were found: Arial, Liberation Sans, Bitstream Vera Sans, sans-serif\n",
      "findfont: Generic family 'sans-serif' not found because none of the following families were found: Arial, Liberation Sans, Bitstream Vera Sans, sans-serif\n",
      "findfont: Generic family 'sans-serif' not found because none of the following families were found: Arial, Liberation Sans, Bitstream Vera Sans, sans-serif\n",
      "findfont: Generic family 'sans-serif' not found because none of the following families were found: Arial, Liberation Sans, Bitstream Vera Sans, sans-serif\n",
      "findfont: Generic family 'sans-serif' not found because none of the following families were found: Arial, Liberation Sans, Bitstream Vera Sans, sans-serif\n",
      "findfont: Generic family 'sans-serif' not found because none of the following families were found: Arial, Liberation Sans, Bitstream Vera Sans, sans-serif\n",
      "findfont: Generic family 'sans-serif' not found because none of the following families were found: Arial, Liberation Sans, Bitstream Vera Sans, sans-serif\n",
      "findfont: Generic family 'sans-serif' not found because none of the following families were found: Arial, Liberation Sans, Bitstream Vera Sans, sans-serif\n",
      "findfont: Generic family 'sans-serif' not found because none of the following families were found: Arial, Liberation Sans, Bitstream Vera Sans, sans-serif\n",
      "findfont: Generic family 'sans-serif' not found because none of the following families were found: Arial, Liberation Sans, Bitstream Vera Sans, sans-serif\n",
      "findfont: Generic family 'sans-serif' not found because none of the following families were found: Arial, Liberation Sans, Bitstream Vera Sans, sans-serif\n",
      "findfont: Generic family 'sans-serif' not found because none of the following families were found: Arial, Liberation Sans, Bitstream Vera Sans, sans-serif\n",
      "findfont: Generic family 'sans-serif' not found because none of the following families were found: Arial, Liberation Sans, Bitstream Vera Sans, sans-serif\n",
      "findfont: Generic family 'sans-serif' not found because none of the following families were found: Arial, Liberation Sans, Bitstream Vera Sans, sans-serif\n",
      "findfont: Generic family 'sans-serif' not found because none of the following families were found: Arial, Liberation Sans, Bitstream Vera Sans, sans-serif\n",
      "findfont: Generic family 'sans-serif' not found because none of the following families were found: Arial, Liberation Sans, Bitstream Vera Sans, sans-serif\n",
      "findfont: Generic family 'sans-serif' not found because none of the following families were found: Arial, Liberation Sans, Bitstream Vera Sans, sans-serif\n",
      "findfont: Generic family 'sans-serif' not found because none of the following families were found: Arial, Liberation Sans, Bitstream Vera Sans, sans-serif\n",
      "findfont: Generic family 'sans-serif' not found because none of the following families were found: Arial, Liberation Sans, Bitstream Vera Sans, sans-serif\n",
      "findfont: Generic family 'sans-serif' not found because none of the following families were found: Arial, Liberation Sans, Bitstream Vera Sans, sans-serif\n",
      "findfont: Generic family 'sans-serif' not found because none of the following families were found: Arial, Liberation Sans, Bitstream Vera Sans, sans-serif\n",
      "findfont: Generic family 'sans-serif' not found because none of the following families were found: Arial, Liberation Sans, Bitstream Vera Sans, sans-serif\n",
      "findfont: Generic family 'sans-serif' not found because none of the following families were found: Arial, Liberation Sans, Bitstream Vera Sans, sans-serif\n",
      "findfont: Generic family 'sans-serif' not found because none of the following families were found: Arial, Liberation Sans, Bitstream Vera Sans, sans-serif\n",
      "findfont: Generic family 'sans-serif' not found because none of the following families were found: Arial, Liberation Sans, Bitstream Vera Sans, sans-serif\n",
      "findfont: Generic family 'sans-serif' not found because none of the following families were found: Arial, Liberation Sans, Bitstream Vera Sans, sans-serif\n",
      "findfont: Generic family 'sans-serif' not found because none of the following families were found: Arial, Liberation Sans, Bitstream Vera Sans, sans-serif\n",
      "findfont: Generic family 'sans-serif' not found because none of the following families were found: Arial, Liberation Sans, Bitstream Vera Sans, sans-serif\n",
      "findfont: Generic family 'sans-serif' not found because none of the following families were found: Arial, Liberation Sans, Bitstream Vera Sans, sans-serif\n",
      "findfont: Generic family 'sans-serif' not found because none of the following families were found: Arial, Liberation Sans, Bitstream Vera Sans, sans-serif\n",
      "findfont: Generic family 'sans-serif' not found because none of the following families were found: Arial, Liberation Sans, Bitstream Vera Sans, sans-serif\n",
      "findfont: Generic family 'sans-serif' not found because none of the following families were found: Arial, Liberation Sans, Bitstream Vera Sans, sans-serif\n",
      "findfont: Generic family 'sans-serif' not found because none of the following families were found: Arial, Liberation Sans, Bitstream Vera Sans, sans-serif\n",
      "findfont: Generic family 'sans-serif' not found because none of the following families were found: Arial, Liberation Sans, Bitstream Vera Sans, sans-serif\n",
      "findfont: Generic family 'sans-serif' not found because none of the following families were found: Arial, Liberation Sans, Bitstream Vera Sans, sans-serif\n",
      "findfont: Generic family 'sans-serif' not found because none of the following families were found: Arial, Liberation Sans, Bitstream Vera Sans, sans-serif\n",
      "findfont: Generic family 'sans-serif' not found because none of the following families were found: Arial, Liberation Sans, Bitstream Vera Sans, sans-serif\n",
      "findfont: Generic family 'sans-serif' not found because none of the following families were found: Arial, Liberation Sans, Bitstream Vera Sans, sans-serif\n",
      "findfont: Generic family 'sans-serif' not found because none of the following families were found: Arial, Liberation Sans, Bitstream Vera Sans, sans-serif\n",
      "findfont: Generic family 'sans-serif' not found because none of the following families were found: Arial, Liberation Sans, Bitstream Vera Sans, sans-serif\n",
      "findfont: Generic family 'sans-serif' not found because none of the following families were found: Arial, Liberation Sans, Bitstream Vera Sans, sans-serif\n",
      "findfont: Generic family 'sans-serif' not found because none of the following families were found: Arial, Liberation Sans, Bitstream Vera Sans, sans-serif\n",
      "findfont: Generic family 'sans-serif' not found because none of the following families were found: Arial, Liberation Sans, Bitstream Vera Sans, sans-serif\n",
      "findfont: Generic family 'sans-serif' not found because none of the following families were found: Arial, Liberation Sans, Bitstream Vera Sans, sans-serif\n",
      "findfont: Generic family 'sans-serif' not found because none of the following families were found: Arial, Liberation Sans, Bitstream Vera Sans, sans-serif\n",
      "findfont: Generic family 'sans-serif' not found because none of the following families were found: Arial, Liberation Sans, Bitstream Vera Sans, sans-serif\n",
      "findfont: Generic family 'sans-serif' not found because none of the following families were found: Arial, Liberation Sans, Bitstream Vera Sans, sans-serif\n",
      "findfont: Generic family 'sans-serif' not found because none of the following families were found: Arial, Liberation Sans, Bitstream Vera Sans, sans-serif\n",
      "findfont: Generic family 'sans-serif' not found because none of the following families were found: Arial, Liberation Sans, Bitstream Vera Sans, sans-serif\n"
     ]
    },
    {
     "name": "stderr",
     "output_type": "stream",
     "text": [
      "findfont: Generic family 'sans-serif' not found because none of the following families were found: Arial, Liberation Sans, Bitstream Vera Sans, sans-serif\n",
      "findfont: Generic family 'sans-serif' not found because none of the following families were found: Arial, Liberation Sans, Bitstream Vera Sans, sans-serif\n",
      "findfont: Generic family 'sans-serif' not found because none of the following families were found: Arial, Liberation Sans, Bitstream Vera Sans, sans-serif\n",
      "findfont: Generic family 'sans-serif' not found because none of the following families were found: Arial, Liberation Sans, Bitstream Vera Sans, sans-serif\n",
      "findfont: Generic family 'sans-serif' not found because none of the following families were found: Arial, Liberation Sans, Bitstream Vera Sans, sans-serif\n",
      "findfont: Generic family 'sans-serif' not found because none of the following families were found: Arial, Liberation Sans, Bitstream Vera Sans, sans-serif\n",
      "findfont: Generic family 'sans-serif' not found because none of the following families were found: Arial, Liberation Sans, Bitstream Vera Sans, sans-serif\n",
      "findfont: Generic family 'sans-serif' not found because none of the following families were found: Arial, Liberation Sans, Bitstream Vera Sans, sans-serif\n",
      "findfont: Generic family 'sans-serif' not found because none of the following families were found: Arial, Liberation Sans, Bitstream Vera Sans, sans-serif\n",
      "findfont: Generic family 'sans-serif' not found because none of the following families were found: Arial, Liberation Sans, Bitstream Vera Sans, sans-serif\n",
      "findfont: Generic family 'sans-serif' not found because none of the following families were found: Arial, Liberation Sans, Bitstream Vera Sans, sans-serif\n",
      "findfont: Generic family 'sans-serif' not found because none of the following families were found: Arial, Liberation Sans, Bitstream Vera Sans, sans-serif\n",
      "findfont: Generic family 'sans-serif' not found because none of the following families were found: Arial, Liberation Sans, Bitstream Vera Sans, sans-serif\n",
      "findfont: Generic family 'sans-serif' not found because none of the following families were found: Arial, Liberation Sans, Bitstream Vera Sans, sans-serif\n",
      "findfont: Generic family 'sans-serif' not found because none of the following families were found: Arial, Liberation Sans, Bitstream Vera Sans, sans-serif\n",
      "findfont: Generic family 'sans-serif' not found because none of the following families were found: Arial, Liberation Sans, Bitstream Vera Sans, sans-serif\n",
      "findfont: Generic family 'sans-serif' not found because none of the following families were found: Arial, Liberation Sans, Bitstream Vera Sans, sans-serif\n",
      "findfont: Generic family 'sans-serif' not found because none of the following families were found: Arial, Liberation Sans, Bitstream Vera Sans, sans-serif\n",
      "findfont: Generic family 'sans-serif' not found because none of the following families were found: Arial, Liberation Sans, Bitstream Vera Sans, sans-serif\n",
      "findfont: Generic family 'sans-serif' not found because none of the following families were found: Arial, Liberation Sans, Bitstream Vera Sans, sans-serif\n",
      "findfont: Generic family 'sans-serif' not found because none of the following families were found: Arial, Liberation Sans, Bitstream Vera Sans, sans-serif\n",
      "findfont: Generic family 'sans-serif' not found because none of the following families were found: Arial, Liberation Sans, Bitstream Vera Sans, sans-serif\n",
      "findfont: Generic family 'sans-serif' not found because none of the following families were found: Arial, Liberation Sans, Bitstream Vera Sans, sans-serif\n",
      "findfont: Generic family 'sans-serif' not found because none of the following families were found: Arial, Liberation Sans, Bitstream Vera Sans, sans-serif\n",
      "findfont: Generic family 'sans-serif' not found because none of the following families were found: Arial, Liberation Sans, Bitstream Vera Sans, sans-serif\n",
      "findfont: Generic family 'sans-serif' not found because none of the following families were found: Arial, Liberation Sans, Bitstream Vera Sans, sans-serif\n",
      "findfont: Generic family 'sans-serif' not found because none of the following families were found: Arial, Liberation Sans, Bitstream Vera Sans, sans-serif\n",
      "findfont: Generic family 'sans-serif' not found because none of the following families were found: Arial, Liberation Sans, Bitstream Vera Sans, sans-serif\n",
      "findfont: Generic family 'sans-serif' not found because none of the following families were found: Arial, Liberation Sans, Bitstream Vera Sans, sans-serif\n"
     ]
    },
    {
     "data": {
      "image/png": "[encoded data removed]",
      "text/plain": [
       "<Figure size 432x288 with 1 Axes>"
      ]
     },
     "metadata": {
      "needs_background": "light"
     },
     "output_type": "display_data"
    }
   ],
   "source": [
    "plot_model(\n",
    "    best_model, \n",
    "    plot = 'auc', \n",
    "    use_train_data = False,\n",
    ")"
   ]
  },
  {
   "cell_type": "code",
   "execution_count": 24,
   "id": "6cba53bb",
   "metadata": {},
   "outputs": [
    {
     "name": "stderr",
     "output_type": "stream",
     "text": [
      "findfont: Generic family 'sans-serif' not found because none of the following families were found: Arial, Liberation Sans, Bitstream Vera Sans, sans-serif\n",
      "findfont: Generic family 'sans-serif' not found because none of the following families were found: Arial, Liberation Sans, Bitstream Vera Sans, sans-serif\n",
      "findfont: Generic family 'sans-serif' not found because none of the following families were found: Arial, Liberation Sans, Bitstream Vera Sans, sans-serif\n",
      "findfont: Generic family 'sans-serif' not found because none of the following families were found: Arial, Liberation Sans, Bitstream Vera Sans, sans-serif\n",
      "findfont: Generic family 'sans-serif' not found because none of the following families were found: Arial, Liberation Sans, Bitstream Vera Sans, sans-serif\n",
      "findfont: Generic family 'sans-serif' not found because none of the following families were found: Arial, Liberation Sans, Bitstream Vera Sans, sans-serif\n",
      "findfont: Generic family 'sans-serif' not found because none of the following families were found: Arial, Liberation Sans, Bitstream Vera Sans, sans-serif\n",
      "findfont: Generic family 'sans-serif' not found because none of the following families were found: Arial, Liberation Sans, Bitstream Vera Sans, sans-serif\n",
      "findfont: Generic family 'sans-serif' not found because none of the following families were found: Arial, Liberation Sans, Bitstream Vera Sans, sans-serif\n",
      "findfont: Generic family 'sans-serif' not found because none of the following families were found: Arial, Liberation Sans, Bitstream Vera Sans, sans-serif\n",
      "findfont: Generic family 'sans-serif' not found because none of the following families were found: Arial, Liberation Sans, Bitstream Vera Sans, sans-serif\n",
      "findfont: Generic family 'sans-serif' not found because none of the following families were found: Arial, Liberation Sans, Bitstream Vera Sans, sans-serif\n",
      "findfont: Generic family 'sans-serif' not found because none of the following families were found: Arial, Liberation Sans, Bitstream Vera Sans, sans-serif\n",
      "findfont: Generic family 'sans-serif' not found because none of the following families were found: Arial, Liberation Sans, Bitstream Vera Sans, sans-serif\n",
      "findfont: Generic family 'sans-serif' not found because none of the following families were found: Arial, Liberation Sans, Bitstream Vera Sans, sans-serif\n",
      "findfont: Generic family 'sans-serif' not found because none of the following families were found: Arial, Liberation Sans, Bitstream Vera Sans, sans-serif\n",
      "findfont: Generic family 'sans-serif' not found because none of the following families were found: Arial, Liberation Sans, Bitstream Vera Sans, sans-serif\n",
      "findfont: Generic family 'sans-serif' not found because none of the following families were found: Arial, Liberation Sans, Bitstream Vera Sans, sans-serif\n",
      "findfont: Generic family 'sans-serif' not found because none of the following families were found: Arial, Liberation Sans, Bitstream Vera Sans, sans-serif\n",
      "findfont: Generic family 'sans-serif' not found because none of the following families were found: Arial, Liberation Sans, Bitstream Vera Sans, sans-serif\n",
      "findfont: Generic family 'sans-serif' not found because none of the following families were found: Arial, Liberation Sans, Bitstream Vera Sans, sans-serif\n",
      "findfont: Generic family 'sans-serif' not found because none of the following families were found: Arial, Liberation Sans, Bitstream Vera Sans, sans-serif\n",
      "findfont: Generic family 'sans-serif' not found because none of the following families were found: Arial, Liberation Sans, Bitstream Vera Sans, sans-serif\n",
      "findfont: Generic family 'sans-serif' not found because none of the following families were found: Arial, Liberation Sans, Bitstream Vera Sans, sans-serif\n",
      "findfont: Generic family 'sans-serif' not found because none of the following families were found: Arial, Liberation Sans, Bitstream Vera Sans, sans-serif\n",
      "findfont: Generic family 'sans-serif' not found because none of the following families were found: Arial, Liberation Sans, Bitstream Vera Sans, sans-serif\n",
      "findfont: Generic family 'sans-serif' not found because none of the following families were found: Arial, Liberation Sans, Bitstream Vera Sans, sans-serif\n",
      "findfont: Generic family 'sans-serif' not found because none of the following families were found: Arial, Liberation Sans, Bitstream Vera Sans, sans-serif\n",
      "findfont: Generic family 'sans-serif' not found because none of the following families were found: Arial, Liberation Sans, Bitstream Vera Sans, sans-serif\n",
      "findfont: Generic family 'sans-serif' not found because none of the following families were found: Arial, Liberation Sans, Bitstream Vera Sans, sans-serif\n",
      "findfont: Generic family 'sans-serif' not found because none of the following families were found: Arial, Liberation Sans, Bitstream Vera Sans, sans-serif\n",
      "findfont: Generic family 'sans-serif' not found because none of the following families were found: Arial, Liberation Sans, Bitstream Vera Sans, sans-serif\n",
      "findfont: Generic family 'sans-serif' not found because none of the following families were found: Arial, Liberation Sans, Bitstream Vera Sans, sans-serif\n",
      "findfont: Generic family 'sans-serif' not found because none of the following families were found: Arial, Liberation Sans, Bitstream Vera Sans, sans-serif\n",
      "findfont: Generic family 'sans-serif' not found because none of the following families were found: Arial, Liberation Sans, Bitstream Vera Sans, sans-serif\n",
      "findfont: Generic family 'sans-serif' not found because none of the following families were found: Arial, Liberation Sans, Bitstream Vera Sans, sans-serif\n",
      "findfont: Generic family 'sans-serif' not found because none of the following families were found: Arial, Liberation Sans, Bitstream Vera Sans, sans-serif\n",
      "findfont: Generic family 'sans-serif' not found because none of the following families were found: Arial, Liberation Sans, Bitstream Vera Sans, sans-serif\n",
      "findfont: Generic family 'sans-serif' not found because none of the following families were found: Arial, Liberation Sans, Bitstream Vera Sans, sans-serif\n",
      "findfont: Generic family 'sans-serif' not found because none of the following families were found: Arial, Liberation Sans, Bitstream Vera Sans, sans-serif\n",
      "findfont: Generic family 'sans-serif' not found because none of the following families were found: Arial, Liberation Sans, Bitstream Vera Sans, sans-serif\n",
      "findfont: Generic family 'sans-serif' not found because none of the following families were found: Arial, Liberation Sans, Bitstream Vera Sans, sans-serif\n",
      "findfont: Generic family 'sans-serif' not found because none of the following families were found: Arial, Liberation Sans, Bitstream Vera Sans, sans-serif\n",
      "findfont: Generic family 'sans-serif' not found because none of the following families were found: Arial, Liberation Sans, Bitstream Vera Sans, sans-serif\n",
      "findfont: Generic family 'sans-serif' not found because none of the following families were found: Arial, Liberation Sans, Bitstream Vera Sans, sans-serif\n",
      "findfont: Generic family 'sans-serif' not found because none of the following families were found: Arial, Liberation Sans, Bitstream Vera Sans, sans-serif\n",
      "findfont: Generic family 'sans-serif' not found because none of the following families were found: Arial, Liberation Sans, Bitstream Vera Sans, sans-serif\n",
      "findfont: Generic family 'sans-serif' not found because none of the following families were found: Arial, Liberation Sans, Bitstream Vera Sans, sans-serif\n",
      "findfont: Generic family 'sans-serif' not found because none of the following families were found: Arial, Liberation Sans, Bitstream Vera Sans, sans-serif\n",
      "findfont: Generic family 'sans-serif' not found because none of the following families were found: Arial, Liberation Sans, Bitstream Vera Sans, sans-serif\n",
      "findfont: Generic family 'sans-serif' not found because none of the following families were found: Arial, Liberation Sans, Bitstream Vera Sans, sans-serif\n",
      "findfont: Generic family 'sans-serif' not found because none of the following families were found: Arial, Liberation Sans, Bitstream Vera Sans, sans-serif\n",
      "findfont: Generic family 'sans-serif' not found because none of the following families were found: Arial, Liberation Sans, Bitstream Vera Sans, sans-serif\n"
     ]
    },
    {
     "name": "stderr",
     "output_type": "stream",
     "text": [
      "findfont: Generic family 'sans-serif' not found because none of the following families were found: Arial, Liberation Sans, Bitstream Vera Sans, sans-serif\n",
      "findfont: Generic family 'sans-serif' not found because none of the following families were found: Arial, Liberation Sans, Bitstream Vera Sans, sans-serif\n",
      "findfont: Generic family 'sans-serif' not found because none of the following families were found: Arial, Liberation Sans, Bitstream Vera Sans, sans-serif\n",
      "findfont: Generic family 'sans-serif' not found because none of the following families were found: Arial, Liberation Sans, Bitstream Vera Sans, sans-serif\n",
      "findfont: Generic family 'sans-serif' not found because none of the following families were found: Arial, Liberation Sans, Bitstream Vera Sans, sans-serif\n",
      "findfont: Generic family 'sans-serif' not found because none of the following families were found: Arial, Liberation Sans, Bitstream Vera Sans, sans-serif\n",
      "findfont: Generic family 'sans-serif' not found because none of the following families were found: Arial, Liberation Sans, Bitstream Vera Sans, sans-serif\n",
      "findfont: Generic family 'sans-serif' not found because none of the following families were found: Arial, Liberation Sans, Bitstream Vera Sans, sans-serif\n",
      "findfont: Generic family 'sans-serif' not found because none of the following families were found: Arial, Liberation Sans, Bitstream Vera Sans, sans-serif\n",
      "findfont: Generic family 'sans-serif' not found because none of the following families were found: Arial, Liberation Sans, Bitstream Vera Sans, sans-serif\n",
      "findfont: Generic family 'sans-serif' not found because none of the following families were found: Arial, Liberation Sans, Bitstream Vera Sans, sans-serif\n",
      "findfont: Generic family 'sans-serif' not found because none of the following families were found: Arial, Liberation Sans, Bitstream Vera Sans, sans-serif\n",
      "findfont: Generic family 'sans-serif' not found because none of the following families were found: Arial, Liberation Sans, Bitstream Vera Sans, sans-serif\n",
      "findfont: Generic family 'sans-serif' not found because none of the following families were found: Arial, Liberation Sans, Bitstream Vera Sans, sans-serif\n",
      "findfont: Generic family 'sans-serif' not found because none of the following families were found: Arial, Liberation Sans, Bitstream Vera Sans, sans-serif\n",
      "findfont: Generic family 'sans-serif' not found because none of the following families were found: Arial, Liberation Sans, Bitstream Vera Sans, sans-serif\n",
      "findfont: Generic family 'sans-serif' not found because none of the following families were found: Arial, Liberation Sans, Bitstream Vera Sans, sans-serif\n",
      "findfont: Generic family 'sans-serif' not found because none of the following families were found: Arial, Liberation Sans, Bitstream Vera Sans, sans-serif\n",
      "findfont: Generic family 'sans-serif' not found because none of the following families were found: Arial, Liberation Sans, Bitstream Vera Sans, sans-serif\n",
      "findfont: Generic family 'sans-serif' not found because none of the following families were found: Arial, Liberation Sans, Bitstream Vera Sans, sans-serif\n",
      "findfont: Generic family 'sans-serif' not found because none of the following families were found: Arial, Liberation Sans, Bitstream Vera Sans, sans-serif\n",
      "findfont: Generic family 'sans-serif' not found because none of the following families were found: Arial, Liberation Sans, Bitstream Vera Sans, sans-serif\n",
      "findfont: Generic family 'sans-serif' not found because none of the following families were found: Arial, Liberation Sans, Bitstream Vera Sans, sans-serif\n",
      "findfont: Generic family 'sans-serif' not found because none of the following families were found: Arial, Liberation Sans, Bitstream Vera Sans, sans-serif\n",
      "findfont: Generic family 'sans-serif' not found because none of the following families were found: Arial, Liberation Sans, Bitstream Vera Sans, sans-serif\n",
      "findfont: Generic family 'sans-serif' not found because none of the following families were found: Arial, Liberation Sans, Bitstream Vera Sans, sans-serif\n",
      "findfont: Generic family 'sans-serif' not found because none of the following families were found: Arial, Liberation Sans, Bitstream Vera Sans, sans-serif\n",
      "findfont: Generic family 'sans-serif' not found because none of the following families were found: Arial, Liberation Sans, Bitstream Vera Sans, sans-serif\n",
      "findfont: Generic family 'sans-serif' not found because none of the following families were found: Arial, Liberation Sans, Bitstream Vera Sans, sans-serif\n",
      "findfont: Generic family 'sans-serif' not found because none of the following families were found: Arial, Liberation Sans, Bitstream Vera Sans, sans-serif\n",
      "findfont: Generic family 'sans-serif' not found because none of the following families were found: Arial, Liberation Sans, Bitstream Vera Sans, sans-serif\n",
      "findfont: Generic family 'sans-serif' not found because none of the following families were found: Arial, Liberation Sans, Bitstream Vera Sans, sans-serif\n",
      "findfont: Generic family 'sans-serif' not found because none of the following families were found: Arial, Liberation Sans, Bitstream Vera Sans, sans-serif\n",
      "findfont: Generic family 'sans-serif' not found because none of the following families were found: Arial, Liberation Sans, Bitstream Vera Sans, sans-serif\n",
      "findfont: Generic family 'sans-serif' not found because none of the following families were found: Arial, Liberation Sans, Bitstream Vera Sans, sans-serif\n",
      "findfont: Generic family 'sans-serif' not found because none of the following families were found: Arial, Liberation Sans, Bitstream Vera Sans, sans-serif\n",
      "findfont: Generic family 'sans-serif' not found because none of the following families were found: Arial, Liberation Sans, Bitstream Vera Sans, sans-serif\n",
      "findfont: Generic family 'sans-serif' not found because none of the following families were found: Arial, Liberation Sans, Bitstream Vera Sans, sans-serif\n",
      "findfont: Generic family 'sans-serif' not found because none of the following families were found: Arial, Liberation Sans, Bitstream Vera Sans, sans-serif\n",
      "findfont: Generic family 'sans-serif' not found because none of the following families were found: Arial, Liberation Sans, Bitstream Vera Sans, sans-serif\n",
      "findfont: Generic family 'sans-serif' not found because none of the following families were found: Arial, Liberation Sans, Bitstream Vera Sans, sans-serif\n",
      "findfont: Generic family 'sans-serif' not found because none of the following families were found: Arial, Liberation Sans, Bitstream Vera Sans, sans-serif\n",
      "findfont: Generic family 'sans-serif' not found because none of the following families were found: Arial, Liberation Sans, Bitstream Vera Sans, sans-serif\n",
      "findfont: Generic family 'sans-serif' not found because none of the following families were found: Arial, Liberation Sans, Bitstream Vera Sans, sans-serif\n"
     ]
    },
    {
     "data": {
      "image/png": "[encoded data removed]",
      "text/plain": [
       "<Figure size 432x288 with 2 Axes>"
      ]
     },
     "metadata": {
      "needs_background": "light"
     },
     "output_type": "display_data"
    }
   ],
   "source": [
    "plot_model(\n",
    "    best_model, \n",
    "    plot = 'class_report', \n",
    ")"
   ]
  }
 ],
 "metadata": {
  "kernelspec": {
   "display_name": "Python 3 (ipykernel)",
   "language": "python",
   "name": "python3"
  },
  "language_info": {
   "codemirror_mode": {
    "name": "ipython",
    "version": 3
   },
   "file_extension": ".py",
   "mimetype": "text/x-python",
   "name": "python",
   "nbconvert_exporter": "python",
   "pygments_lexer": "ipython3",
   "version": "3.10.6"
  }
 },
 "nbformat": 4,
 "nbformat_minor": 5
}
