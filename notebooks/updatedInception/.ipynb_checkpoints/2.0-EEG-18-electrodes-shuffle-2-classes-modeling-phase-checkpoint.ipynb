{
 "cells": [
  {
   "cell_type": "markdown",
   "id": "64843913",
   "metadata": {},
   "source": [
    "# Feature Extraction Phase\n",
    "In this notebook I'm running the feature extraction phase using an Inception Convolutional Neural Network as the feature extraction model trained with the pre-processed data as well as optimized with a Bayesian Optimization process.\n",
    "\n",
    "**Author**: Arthur G."
   ]
  },
  {
   "cell_type": "markdown",
   "id": "268fbc8a",
   "metadata": {},
   "source": [
    "## Loading Dependencies\n",
    "Loading and setting up all the dependencies for this notebook."
   ]
  },
  {
   "cell_type": "code",
   "execution_count": 29,
   "id": "bbe82203",
   "metadata": {},
   "outputs": [],
   "source": [
    "# libs\n",
    "import os\n",
    "import time\n",
    "import warnings\n",
    "\n",
    "import numpy as np\n",
    "import pandas as pd\n",
    "import tensorflow as tf\n",
    "from pycaret.classification import *\n",
    "from keras_tuner import HyperModel, Objective\n",
    "from keras_tuner.tuners import BayesianOptimization\n",
    "from sklearn.model_selection import train_test_split\n",
    "from sklearn.pipeline import Pipeline\n",
    "from sklearn.datasets import make_classification\n",
    "from sklearn.metrics import classification_report\n",
    "from sklearn import metrics\n",
    "from tensorflow.keras.callbacks import EarlyStopping\n",
    "from tensorflow.keras.callbacks import ReduceLROnPlateau\n",
    "from tensorflow.keras.callbacks import ModelCheckpoint\n",
    "\n",
    "# settings\n",
    "seed = np.random.seed(42)\n",
    "warnings.filterwarnings(\"ignore\")"
   ]
  },
  {
   "cell_type": "markdown",
   "id": "df050263",
   "metadata": {},
   "source": [
    "## Helper Functions\n",
    "A set of helper functions and classes for the automation of model optimization."
   ]
  },
  {
   "cell_type": "code",
   "execution_count": 2,
   "id": "fd044fa3",
   "metadata": {},
   "outputs": [],
   "source": [
    "class InceptionHyperModel(HyperModel):\n",
    "    \"\"\"Builds the base Inception model for dynamic optimization.\"\"\"\n",
    "    \n",
    "    def build(self, hp):\n",
    "        \"\"\"Initiate the model before the bayesian process gets started.\"\"\"\n",
    "        input_tensor = tf.keras.layers.Input(shape=(1, 300, 20)) # era 1,300,1\n",
    "\n",
    "        \n",
    "        # bottleneck layer\n",
    "        x = tf.keras.layers.Conv2D(\n",
    "                filters=hp.Int(\"n_filters_1_bn\", min_value=16, max_value=64, step=16), \n",
    "                kernel_size=(1, 1), \n",
    "                strides=1, \n",
    "                padding='same', \n",
    "                activation='relu'\n",
    "        )(input_tensor)\n",
    "        x = tf.keras.layers.Conv2D(\n",
    "                filters=hp.Int(\"n_filters_2_bn\", min_value=16, max_value=64, step=16), \n",
    "                kernel_size=hp.Int(\"kernel_size_bn\", min_value=2, max_value=4, step=1), \n",
    "                strides=1, \n",
    "                padding='same', \n",
    "                activation='relu'\n",
    "        )(x)\n",
    "        x = tf.keras.layers.Conv2D(\n",
    "                filters=hp.Int(\"n_filters_3_bn\", min_value=16, max_value=64, step=16), \n",
    "                kernel_size=(1, 1), \n",
    "                strides=1, \n",
    "                padding='same', \n",
    "                activation='relu'\n",
    "        )(x)\n",
    "        x = tf.keras.layers.Dropout(\n",
    "                hp.Choice(\"dropout_rate_bn\", values=[0.05, 0.5], default=0.5)\n",
    "        )(x)\n",
    "        \n",
    "\n",
    "        # dynamic efficient inception blocks\n",
    "        for i in range(hp.Int(\"n_incep_blocks\", min_value=2, max_value=4, step=1)):\n",
    "            x = tf.keras.layers.Conv2D(\n",
    "                    filters=hp.Int(\"n_filters_1_ib\", min_value=16, max_value=64, step=16), \n",
    "                    kernel_size=(1, 1), \n",
    "                    padding=\"same\", \n",
    "                    activation=\"relu\"\n",
    "            )(x)\n",
    "            x = tf.keras.layers.Conv2D(\n",
    "                    filters=hp.Int(\"n_filters_2_ib\", min_value=16, max_value=64, step=16), \n",
    "                    kernel_size=(1, 1), \n",
    "                    padding=\"same\", \n",
    "                    activation=\"relu\"\n",
    "            )(x)\n",
    "            x = tf.keras.layers.Conv2D(\n",
    "                    filters=hp.Int(\"n_filters_3_ib\", min_value=16, max_value=64, step=16), \n",
    "                    kernel_size=(3, 3), \n",
    "                    padding=\"same\", \n",
    "                    activation=\"relu\"\n",
    "            )(x)\n",
    "            x = tf.keras.layers.Conv2D(\n",
    "                    filters=hp.Int(\"n_filters_4_ib\", min_value=16, max_value=64, step=16), \n",
    "                    kernel_size=(1, 1), \n",
    "                    padding=\"same\", \n",
    "                    activation=\"relu\"\n",
    "            )(x)\n",
    "            x = tf.keras.layers.Conv2D(\n",
    "                    filters=hp.Int(\"n_filters_5_ib\", min_value=16, max_value=64, step=16), \n",
    "                    kernel_size=(5, 5), \n",
    "                    padding=\"same\", \n",
    "                    activation=\"relu\"\n",
    "            )(x)\n",
    "            x = tf.keras.layers.MaxPooling2D(\n",
    "                    pool_size=(3, 3), \n",
    "                    strides=(1, 1), \n",
    "                    padding='same'\n",
    "            )(x)\n",
    "            x = tf.keras.layers.Conv2D(\n",
    "                filters=hp.Int(\"n_filters_6_ib\", min_value=16, max_value=64, step=16), \n",
    "                kernel_size=(1, 1), \n",
    "                padding=\"same\", \n",
    "                activation=\"relu\"\n",
    "            )(x)\n",
    "        \n",
    "\n",
    "        # fully connected layer\n",
    "        x = tf.keras.layers.GlobalAveragePooling2D()(x)\n",
    "        \n",
    "        for i in range(hp.Int(\"n_fc_blocks\", min_value=2, max_value=4, step=1)):\n",
    "            x = tf.keras.layers.Dense(\n",
    "                    units=hp.Int(\"n_dense_nodes_1_fc\", min_value=32, max_value=256, step=32), \n",
    "                    activation='relu'\n",
    "            )(x)\n",
    "            x = tf.keras.layers.Dropout(\n",
    "                    hp.Choice(\"dropout_rate_fc\", values=[0.05, 0.5], default=0.5)\n",
    "            )(x)\n",
    "            x = tf.keras.layers.Dense(\n",
    "                    units=hp.Int(\n",
    "                        \"n_dense_nodes_2_fc\", min_value=32, max_value=256, step=32) \\\n",
    "                        // hp.Int(\"dense_nodes_div\", min_value=2, max_value=8, step=2), \n",
    "                        activation='relu'\n",
    "            )(x)\n",
    "        \n",
    "        output_tensor = tf.keras.layers.Dense(\n",
    "            4, \n",
    "            activation='softmax'\n",
    "        )(x)\n",
    "        \n",
    "\n",
    "        # model compilation\n",
    "        model = tf.keras.Model(inputs=input_tensor, outputs=output_tensor)\n",
    "        model.compile(\n",
    "            loss='sparse_categorical_crossentropy',\n",
    "            metrics=['accuracy'],\n",
    "            optimizer=hp.Choice(\n",
    "                \"optimizer\", \n",
    "                values=[\n",
    "                    \"sgd\", \"rmsprop\", \"adam\", \n",
    "                    \"adadelta\", \"adagrad\", \n",
    "                    \"adamax\", \"nadam\"\n",
    "                ], default=\"adam\"\n",
    "            )\n",
    "        )\n",
    "        \n",
    "        return model\n",
    "    \n",
    "\n",
    "def get_features_extracted(model, final_layer: str, sample: np.ndarray):\n",
    "    \"\"\"\n",
    "    This function extracts outputs from a given layer\n",
    "    name.\n",
    "    \"\"\"\n",
    "    sample = np.expand_dims(sample, axis=0)\n",
    "    output = np.array(\n",
    "        tf.keras.Model(inputs=model.inputs, outputs=model.get_layer(final_layer).output)(sample)\n",
    "    )\n",
    "    \n",
    "    return output\n"
   ]
  },
  {
   "cell_type": "markdown",
   "id": "f890626c",
   "metadata": {},
   "source": [
    "## Feature Extraction Pipeline\n",
    "Building the feature extraction pipeline using an Inception Convolutional Neural Network."
   ]
  },
  {
   "cell_type": "markdown",
   "id": "6de6af1d",
   "metadata": {},
   "source": [
    "Loading and preparing the DCE-based dataset."
   ]
  },
  {
   "cell_type": "code",
   "execution_count": 3,
   "id": "07063346",
   "metadata": {},
   "outputs": [
    {
     "name": "stdout",
     "output_type": "stream",
     "text": [
      "Original data shape: (3240000, 20)\n",
      "Reshaped data shape: (10800, 1, 300, 20)\n",
      "Original targets shape: (10800,)\n"
     ]
    }
   ],
   "source": [
    "# loading data and targets\n",
    "data = np.loadtxt(os.path.join(\"..\",\"..\", \"data\", \"processed\", \"EEG_filt_20_electrodes.csv\"), delimiter=',')\n",
    "targets = np.loadtxt(os.path.join(\"..\",\"..\", \"data\", \"processed\", \"EEG_filt_first_8_electrodes_targets.csv\"), delimiter=',')\n",
    "\n",
    "# encoding targets (from string to int)\n",
    "targets[targets == 0] = 0\n",
    "targets[targets == 1] = 0 # 19494 subjects of this class\n",
    "targets[targets == 2] = 1\n",
    "targets[targets == 3] = 1 # 11286 subjects of this class\n",
    "targets = targets.astype(int)\n",
    "\n",
    "print(f\"Original data shape: {data.shape}\")\n",
    "data_reshape = data.reshape(10800, 1,300, 20) \n",
    "\n",
    "print(f\"Reshaped data shape: {data_reshape.shape}\")\n",
    "print(f\"Original targets shape: {targets.shape}\")"
   ]
  },
  {
   "cell_type": "code",
   "execution_count": 4,
   "id": "02a58a75",
   "metadata": {},
   "outputs": [
    {
     "name": "stdout",
     "output_type": "stream",
     "text": [
      "data: 65.4093722285802, data_reshape: 65.4093722285802\n"
     ]
    },
    {
     "data": {
      "text/plain": [
       "(10800, 1, 300, 20)"
      ]
     },
     "execution_count": 4,
     "metadata": {},
     "output_type": "execute_result"
    }
   ],
   "source": [
    "print(f\"data: {data[3,1]}, data_reshape: {data_reshape[0,0,3,1]}\")\n",
    "data_reshape.shape"
   ]
  },
  {
   "cell_type": "markdown",
   "id": "1c2552d6",
   "metadata": {},
   "source": [
    "### Train-Test-Split\n",
    "Splitting DCE-based dataset into train/holdout sets."
   ]
  },
  {
   "cell_type": "code",
   "execution_count": 5,
   "id": "17c0a3d1",
   "metadata": {},
   "outputs": [
    {
     "name": "stdout",
     "output_type": "stream",
     "text": [
      "Original data train set: (8640, 1, 300, 20)\n",
      "Holdout data test set: (2160, 1, 300, 20)\n"
     ]
    }
   ],
   "source": [
    "x_train, x_holdout, y_train, y_holdout = train_test_split(\n",
    "    data_reshape,\n",
    "    targets,\n",
    "    test_size=0.2,\n",
    "    shuffle=True,\n",
    "    random_state=seed\n",
    ")\n",
    "\n",
    "print(f\"Original data train set: {x_train.shape}\")\n",
    "print(f\"Holdout data test set: {x_holdout.shape}\")"
   ]
  },
  {
   "cell_type": "markdown",
   "id": "df08685d",
   "metadata": {},
   "source": [
    "### Architecture Optimization\n",
    "Building the optimizable iCNN skeleton."
   ]
  },
  {
   "cell_type": "code",
   "execution_count": 6,
   "id": "3a537d27",
   "metadata": {},
   "outputs": [],
   "source": [
    "# loading the Inception skeleton\n",
    "inception_hyper_model = InceptionHyperModel()"
   ]
  },
  {
   "cell_type": "markdown",
   "id": "82b0de67",
   "metadata": {},
   "source": [
    "Setting up the architecture tuner."
   ]
  },
  {
   "cell_type": "code",
   "execution_count": 7,
   "id": "a2ccd29a",
   "metadata": {},
   "outputs": [
    {
     "name": "stdout",
     "output_type": "stream",
     "text": [
      "INFO:tensorflow:Reloading Oracle from existing project ..\\..\\models\\updatedInception\\20_electrodes_2_classes_feature_extractor\\oracle.json\n",
      "INFO:tensorflow:Reloading Tuner from ..\\..\\models\\updatedInception\\20_electrodes_2_classes_feature_extractor\\tuner0.json\n"
     ]
    }
   ],
   "source": [
    "# setting up the optimization process\n",
    "tuner = BayesianOptimization(\n",
    "    hypermodel=inception_hyper_model,\n",
    "    objective=\"val_loss\",\n",
    "    num_initial_points=25,\n",
    "    max_trials=15,\n",
    "    directory=os.path.join(\"..\",\"..\", \"models\",\"updatedInception\"),\n",
    "    project_name=\"20_electrodes_2_classes_feature_extractor\",\n",
    "    seed=seed\n",
    ")"
   ]
  },
  {
   "cell_type": "markdown",
   "id": "eed4c6ec",
   "metadata": {},
   "source": [
    "Defining callback functions."
   ]
  },
  {
   "cell_type": "code",
   "execution_count": 8,
   "id": "8a6f1955",
   "metadata": {},
   "outputs": [],
   "source": [
    "# defining callbacks\n",
    "callbacks = [\n",
    "    EarlyStopping(\n",
    "        monitor='val_loss', \n",
    "        patience=20\n",
    "    ),\n",
    "    ReduceLROnPlateau(\n",
    "        monitor=\"val_loss\", \n",
    "        factor=0.1, \n",
    "        patience=10, \n",
    "        mode=\"auto\", \n",
    "        min_delta=0.0001, \n",
    "        cooldown=0, \n",
    "        min_lr=1.0e-6\n",
    "    )\n",
    "]"
   ]
  },
  {
   "cell_type": "markdown",
   "id": "809b0c02",
   "metadata": {},
   "source": [
    "Running the tuner."
   ]
  },
  {
   "cell_type": "code",
   "execution_count": 9,
   "id": "1fc0f8bc",
   "metadata": {
    "scrolled": true
   },
   "outputs": [
    {
     "name": "stdout",
     "output_type": "stream",
     "text": [
      "INFO:tensorflow:Oracle triggered exit\n"
     ]
    }
   ],
   "source": [
    "# running the search\n",
    "tuner.search(\n",
    "    x_train,\n",
    "    y_train,\n",
    "    epochs=250,\n",
    "    validation_split=0.2,\n",
    "    batch_size=32,\n",
    "    callbacks=[callbacks]\n",
    ")"
   ]
  },
  {
   "cell_type": "markdown",
   "id": "13d21f28",
   "metadata": {},
   "source": [
    "### Building The Model\n",
    "Getting the best feature extraction model from the tuner."
   ]
  },
  {
   "cell_type": "code",
   "execution_count": 10,
   "id": "96bdd925",
   "metadata": {},
   "outputs": [],
   "source": [
    "best_feature_extractor = tuner.get_best_models(num_models=1)[0]"
   ]
  },
  {
   "cell_type": "markdown",
   "id": "f7afe788",
   "metadata": {},
   "source": [
    "### Feature Extraction Process\n",
    "Using the model to extract predictive patterns from the DCE-based dataset."
   ]
  },
  {
   "cell_type": "code",
   "execution_count": 11,
   "id": "c302ae4a",
   "metadata": {},
   "outputs": [
    {
     "name": "stdout",
     "output_type": "stream",
     "text": [
      "Train dataset shape: (8640, 49)\n",
      "Holdout dataset shape: (2160, 49)\n"
     ]
    }
   ],
   "source": [
    "train_features = []\n",
    "holdout_features = []\n",
    "\n",
    "# extracting trian features\n",
    "for sample in x_train:\n",
    "    sample_features = get_features_extracted(best_feature_extractor, \"global_average_pooling2d\", sample)\n",
    "    train_features.append(sample_features)\n",
    "    \n",
    "# extracting holdout features\n",
    "for sample in x_holdout:\n",
    "    sample_features = get_features_extracted(best_feature_extractor, \"global_average_pooling2d\", sample)\n",
    "    holdout_features.append(sample_features)\n",
    "\n",
    "# assembling feature dataframes\n",
    "train_features_df = pd.DataFrame(np.array(train_features).reshape((len(train_features),len(train_features[0][0])))) \n",
    "train_features_df[\"CLASS\"] = y_train\n",
    "\n",
    "holdout_features_df = pd.DataFrame(np.array(holdout_features).reshape((len(holdout_features),len(holdout_features[0][0]))))\n",
    "holdout_features_df[\"CLASS\"] = y_holdout\n",
    "\n",
    "print(f\"Train dataset shape: {train_features_df.shape}\")\n",
    "print(f\"Holdout dataset shape: {holdout_features_df.shape}\")"
   ]
  },
  {
   "cell_type": "markdown",
   "id": "e0c2a562",
   "metadata": {},
   "source": [
    "## Machine Learning Classification Experiment\n",
    "Renaming the columns to avoid errors."
   ]
  },
  {
   "cell_type": "code",
   "execution_count": 12,
   "id": "7dbaf926",
   "metadata": {},
   "outputs": [],
   "source": [
    "train_features_df.columns = train_features_df.columns.astype(str)\n",
    "holdout_features_df.columns = holdout_features_df.columns.astype(str)"
   ]
  },
  {
   "cell_type": "code",
   "execution_count": 13,
   "id": "b6f984ff",
   "metadata": {},
   "outputs": [
    {
     "name": "stdout",
     "output_type": "stream",
     "text": [
      "68/68 [==============================] - 1s 16ms/step - loss: 0.1384 - accuracy: 0.9505\n",
      "[test loss, test accuracy]: [0.13841670751571655, 0.9504629373550415]\n"
     ]
    }
   ],
   "source": [
    "eval_result = best_feature_extractor.evaluate(x_holdout, y_holdout)\n",
    "print(\"[test loss, test accuracy]:\", eval_result)"
   ]
  },
  {
   "cell_type": "markdown",
   "id": "0b8a917c",
   "metadata": {},
   "source": [
    "##### Inception Statistics"
   ]
  },
  {
   "cell_type": "code",
   "execution_count": 38,
   "id": "3e390bba",
   "metadata": {},
   "outputs": [
    {
     "name": "stdout",
     "output_type": "stream",
     "text": [
      "34/34 [==============================] - 1s 22ms/step\n",
      "              precision    recall  f1-score   support\n",
      "\n",
      "           0     0.9629    0.9608    0.9618      1403\n",
      "           1     0.9276    0.9313    0.9295       757\n",
      "\n",
      "    accuracy                         0.9505      2160\n",
      "   macro avg     0.9452    0.9461    0.9456      2160\n",
      "weighted avg     0.9505    0.9505    0.9505      2160\n",
      "\n"
     ]
    },
    {
     "ename": "ValueError",
     "evalue": "Number of classes in y_true not equal to the number of columns in 'y_score'",
     "output_type": "error",
     "traceback": [
      "\u001b[1;31m---------------------------------------------------------------------------\u001b[0m",
      "\u001b[1;31mValueError\u001b[0m                                Traceback (most recent call last)",
      "\u001b[1;32m~\\AppData\\Local\\Temp\\ipykernel_6208\\4239580855.py\u001b[0m in \u001b[0;36m<module>\u001b[1;34m\u001b[0m\n\u001b[0;32m      4\u001b[0m \u001b[0mprint\u001b[0m\u001b[1;33m(\u001b[0m\u001b[0mclassification_report\u001b[0m\u001b[1;33m(\u001b[0m\u001b[0my_holdout\u001b[0m\u001b[1;33m,\u001b[0m \u001b[0my_pred_bool\u001b[0m\u001b[1;33m,\u001b[0m\u001b[0mdigits\u001b[0m\u001b[1;33m=\u001b[0m\u001b[1;36m4\u001b[0m\u001b[1;33m)\u001b[0m\u001b[1;33m)\u001b[0m\u001b[1;33m\u001b[0m\u001b[1;33m\u001b[0m\u001b[0m\n\u001b[0;32m      5\u001b[0m \u001b[1;33m\u001b[0m\u001b[0m\n\u001b[1;32m----> 6\u001b[1;33m \u001b[0mprint\u001b[0m\u001b[1;33m(\u001b[0m\u001b[1;34m'AUC = %.4f'\u001b[0m \u001b[1;33m%\u001b[0m \u001b[0mmetrics\u001b[0m\u001b[1;33m.\u001b[0m\u001b[0mroc_auc_score\u001b[0m\u001b[1;33m(\u001b[0m\u001b[0my_holdout\u001b[0m\u001b[1;33m,\u001b[0m \u001b[0my_pred\u001b[0m\u001b[1;33m,\u001b[0m  \u001b[0mmulti_class\u001b[0m\u001b[1;33m=\u001b[0m\u001b[1;34m\"ovr\"\u001b[0m\u001b[1;33m,\u001b[0m \u001b[0maverage\u001b[0m\u001b[1;33m=\u001b[0m\u001b[1;34m'weighted'\u001b[0m\u001b[1;33m)\u001b[0m\u001b[1;33m)\u001b[0m\u001b[1;33m\u001b[0m\u001b[1;33m\u001b[0m\u001b[0m\n\u001b[0m",
      "\u001b[1;32m~\\anaconda3\\lib\\site-packages\\sklearn\\metrics\\_ranking.py\u001b[0m in \u001b[0;36mroc_auc_score\u001b[1;34m(y_true, y_score, average, sample_weight, max_fpr, multi_class, labels)\u001b[0m\n\u001b[0;32m    561\u001b[0m         \u001b[1;32mif\u001b[0m \u001b[0mmulti_class\u001b[0m \u001b[1;33m==\u001b[0m \u001b[1;34m\"raise\"\u001b[0m\u001b[1;33m:\u001b[0m\u001b[1;33m\u001b[0m\u001b[1;33m\u001b[0m\u001b[0m\n\u001b[0;32m    562\u001b[0m             \u001b[1;32mraise\u001b[0m \u001b[0mValueError\u001b[0m\u001b[1;33m(\u001b[0m\u001b[1;34m\"multi_class must be in ('ovo', 'ovr')\"\u001b[0m\u001b[1;33m)\u001b[0m\u001b[1;33m\u001b[0m\u001b[1;33m\u001b[0m\u001b[0m\n\u001b[1;32m--> 563\u001b[1;33m         return _multiclass_roc_auc_score(\n\u001b[0m\u001b[0;32m    564\u001b[0m             \u001b[0my_true\u001b[0m\u001b[1;33m,\u001b[0m \u001b[0my_score\u001b[0m\u001b[1;33m,\u001b[0m \u001b[0mlabels\u001b[0m\u001b[1;33m,\u001b[0m \u001b[0mmulti_class\u001b[0m\u001b[1;33m,\u001b[0m \u001b[0maverage\u001b[0m\u001b[1;33m,\u001b[0m \u001b[0msample_weight\u001b[0m\u001b[1;33m\u001b[0m\u001b[1;33m\u001b[0m\u001b[0m\n\u001b[0;32m    565\u001b[0m         )\n",
      "\u001b[1;32m~\\anaconda3\\lib\\site-packages\\sklearn\\metrics\\_ranking.py\u001b[0m in \u001b[0;36m_multiclass_roc_auc_score\u001b[1;34m(y_true, y_score, labels, multi_class, average, sample_weight)\u001b[0m\n\u001b[0;32m    670\u001b[0m         \u001b[0mclasses\u001b[0m \u001b[1;33m=\u001b[0m \u001b[0m_unique\u001b[0m\u001b[1;33m(\u001b[0m\u001b[0my_true\u001b[0m\u001b[1;33m)\u001b[0m\u001b[1;33m\u001b[0m\u001b[1;33m\u001b[0m\u001b[0m\n\u001b[0;32m    671\u001b[0m         \u001b[1;32mif\u001b[0m \u001b[0mlen\u001b[0m\u001b[1;33m(\u001b[0m\u001b[0mclasses\u001b[0m\u001b[1;33m)\u001b[0m \u001b[1;33m!=\u001b[0m \u001b[0my_score\u001b[0m\u001b[1;33m.\u001b[0m\u001b[0mshape\u001b[0m\u001b[1;33m[\u001b[0m\u001b[1;36m1\u001b[0m\u001b[1;33m]\u001b[0m\u001b[1;33m:\u001b[0m\u001b[1;33m\u001b[0m\u001b[1;33m\u001b[0m\u001b[0m\n\u001b[1;32m--> 672\u001b[1;33m             raise ValueError(\n\u001b[0m\u001b[0;32m    673\u001b[0m                 \u001b[1;34m\"Number of classes in y_true not equal to the number of \"\u001b[0m\u001b[1;33m\u001b[0m\u001b[1;33m\u001b[0m\u001b[0m\n\u001b[0;32m    674\u001b[0m                 \u001b[1;34m\"columns in 'y_score'\"\u001b[0m\u001b[1;33m\u001b[0m\u001b[1;33m\u001b[0m\u001b[0m\n",
      "\u001b[1;31mValueError\u001b[0m: Number of classes in y_true not equal to the number of columns in 'y_score'"
     ]
    }
   ],
   "source": [
    "y_pred = best_feature_extractor.predict(x_holdout, batch_size=64, verbose=1)\n",
    "y_pred_bool = np.argmax(y_pred, axis=1)\n",
    "\n",
    "print(classification_report(y_holdout, y_pred_bool,digits=4))\n",
    "\n",
    "print('AUC = %.4f' % metrics.roc_auc_score(y_holdout, y_pred,  multi_class=\"ovr\", average='weighted'))"
   ]
  },
  {
   "cell_type": "markdown",
   "id": "fe11e568",
   "metadata": {},
   "source": [
    "Setting up the ML classification pipeline."
   ]
  },
  {
   "cell_type": "code",
   "execution_count": 15,
   "id": "774fc97d",
   "metadata": {},
   "outputs": [
    {
     "data": {
      "text/html": [
       "<style type=\"text/css\">\n",
       "</style>\n",
       "<table id=\"T_8009d\">\n",
       "  <thead>\n",
       "    <tr>\n",
       "      <th class=\"blank level0\" >&nbsp;</th>\n",
       "      <th id=\"T_8009d_level0_col0\" class=\"col_heading level0 col0\" >Description</th>\n",
       "      <th id=\"T_8009d_level0_col1\" class=\"col_heading level0 col1\" >Value</th>\n",
       "    </tr>\n",
       "  </thead>\n",
       "  <tbody>\n",
       "    <tr>\n",
       "      <th id=\"T_8009d_level0_row0\" class=\"row_heading level0 row0\" >0</th>\n",
       "      <td id=\"T_8009d_row0_col0\" class=\"data row0 col0\" >Session id</td>\n",
       "      <td id=\"T_8009d_row0_col1\" class=\"data row0 col1\" >7679</td>\n",
       "    </tr>\n",
       "    <tr>\n",
       "      <th id=\"T_8009d_level0_row1\" class=\"row_heading level0 row1\" >1</th>\n",
       "      <td id=\"T_8009d_row1_col0\" class=\"data row1 col0\" >Target</td>\n",
       "      <td id=\"T_8009d_row1_col1\" class=\"data row1 col1\" >CLASS</td>\n",
       "    </tr>\n",
       "    <tr>\n",
       "      <th id=\"T_8009d_level0_row2\" class=\"row_heading level0 row2\" >2</th>\n",
       "      <td id=\"T_8009d_row2_col0\" class=\"data row2 col0\" >Target type</td>\n",
       "      <td id=\"T_8009d_row2_col1\" class=\"data row2 col1\" >Binary</td>\n",
       "    </tr>\n",
       "    <tr>\n",
       "      <th id=\"T_8009d_level0_row3\" class=\"row_heading level0 row3\" >3</th>\n",
       "      <td id=\"T_8009d_row3_col0\" class=\"data row3 col0\" >Original data shape</td>\n",
       "      <td id=\"T_8009d_row3_col1\" class=\"data row3 col1\" >(10800, 49)</td>\n",
       "    </tr>\n",
       "    <tr>\n",
       "      <th id=\"T_8009d_level0_row4\" class=\"row_heading level0 row4\" >4</th>\n",
       "      <td id=\"T_8009d_row4_col0\" class=\"data row4 col0\" >Transformed data shape</td>\n",
       "      <td id=\"T_8009d_row4_col1\" class=\"data row4 col1\" >(10800, 49)</td>\n",
       "    </tr>\n",
       "    <tr>\n",
       "      <th id=\"T_8009d_level0_row5\" class=\"row_heading level0 row5\" >5</th>\n",
       "      <td id=\"T_8009d_row5_col0\" class=\"data row5 col0\" >Transformed train set shape</td>\n",
       "      <td id=\"T_8009d_row5_col1\" class=\"data row5 col1\" >(8640, 49)</td>\n",
       "    </tr>\n",
       "    <tr>\n",
       "      <th id=\"T_8009d_level0_row6\" class=\"row_heading level0 row6\" >6</th>\n",
       "      <td id=\"T_8009d_row6_col0\" class=\"data row6 col0\" >Transformed test set shape</td>\n",
       "      <td id=\"T_8009d_row6_col1\" class=\"data row6 col1\" >(2160, 49)</td>\n",
       "    </tr>\n",
       "    <tr>\n",
       "      <th id=\"T_8009d_level0_row7\" class=\"row_heading level0 row7\" >7</th>\n",
       "      <td id=\"T_8009d_row7_col0\" class=\"data row7 col0\" >Numeric features</td>\n",
       "      <td id=\"T_8009d_row7_col1\" class=\"data row7 col1\" >48</td>\n",
       "    </tr>\n",
       "  </tbody>\n",
       "</table>\n"
      ],
      "text/plain": [
       "<pandas.io.formats.style.Styler at 0x2331ba6b760>"
      ]
     },
     "metadata": {},
     "output_type": "display_data"
    }
   ],
   "source": [
    "classif_exp = setup(\n",
    "    data=train_features_df,\n",
    "    test_data=holdout_features_df,\n",
    "    target=\"CLASS\",\n",
    "    fold_shuffle=True,\n",
    "    preprocess = False,\n",
    "    fix_imbalance = True,\n",
    "    use_gpu=True\n",
    ")"
   ]
  },
  {
   "cell_type": "markdown",
   "id": "0ab1fe9b",
   "metadata": {},
   "source": [
    "#### Models Comparison\n",
    "Comparing different machine learning model performances for the task of classifying DCE-base features."
   ]
  },
  {
   "cell_type": "code",
   "execution_count": 16,
   "id": "65bdd20a",
   "metadata": {},
   "outputs": [
    {
     "data": {
      "text/html": [],
      "text/plain": [
       "<IPython.core.display.HTML object>"
      ]
     },
     "metadata": {},
     "output_type": "display_data"
    },
    {
     "data": {
      "text/html": [
       "<style type=\"text/css\">\n",
       "#T_87170 th {\n",
       "  text-align: left;\n",
       "}\n",
       "#T_87170_row0_col0, #T_87170_row0_col2, #T_87170_row0_col3, #T_87170_row1_col0, #T_87170_row1_col1, #T_87170_row1_col3, #T_87170_row1_col4, #T_87170_row1_col5, #T_87170_row1_col6, #T_87170_row1_col7, #T_87170_row2_col0, #T_87170_row2_col1, #T_87170_row2_col2, #T_87170_row2_col3, #T_87170_row2_col4, #T_87170_row2_col5, #T_87170_row2_col6, #T_87170_row2_col7, #T_87170_row3_col0, #T_87170_row3_col1, #T_87170_row3_col2, #T_87170_row3_col3, #T_87170_row3_col4, #T_87170_row3_col5, #T_87170_row3_col6, #T_87170_row3_col7, #T_87170_row4_col0, #T_87170_row4_col1, #T_87170_row4_col2, #T_87170_row4_col3, #T_87170_row4_col4, #T_87170_row4_col5, #T_87170_row4_col6, #T_87170_row4_col7, #T_87170_row5_col0, #T_87170_row5_col1, #T_87170_row5_col2, #T_87170_row5_col3, #T_87170_row5_col4, #T_87170_row5_col5, #T_87170_row5_col6, #T_87170_row5_col7, #T_87170_row6_col0, #T_87170_row6_col1, #T_87170_row6_col2, #T_87170_row6_col3, #T_87170_row6_col4, #T_87170_row6_col5, #T_87170_row6_col6, #T_87170_row6_col7, #T_87170_row7_col0, #T_87170_row7_col1, #T_87170_row7_col3, #T_87170_row7_col4, #T_87170_row7_col5, #T_87170_row7_col6, #T_87170_row7_col7, #T_87170_row8_col0, #T_87170_row8_col1, #T_87170_row8_col2, #T_87170_row8_col3, #T_87170_row8_col4, #T_87170_row8_col5, #T_87170_row8_col6, #T_87170_row8_col7, #T_87170_row9_col0, #T_87170_row9_col1, #T_87170_row9_col2, #T_87170_row9_col3, #T_87170_row9_col4, #T_87170_row9_col5, #T_87170_row9_col6, #T_87170_row9_col7, #T_87170_row10_col0, #T_87170_row10_col1, #T_87170_row10_col2, #T_87170_row10_col3, #T_87170_row10_col4, #T_87170_row10_col5, #T_87170_row10_col6, #T_87170_row10_col7, #T_87170_row11_col0, #T_87170_row11_col1, #T_87170_row11_col2, #T_87170_row11_col3, #T_87170_row11_col4, #T_87170_row11_col5, #T_87170_row11_col6, #T_87170_row11_col7, #T_87170_row12_col0, #T_87170_row12_col1, #T_87170_row12_col2, #T_87170_row12_col3, #T_87170_row12_col4, #T_87170_row12_col5, #T_87170_row12_col6, #T_87170_row12_col7, #T_87170_row13_col0, #T_87170_row13_col1, #T_87170_row13_col2, #T_87170_row13_col4, #T_87170_row13_col5, #T_87170_row13_col6, #T_87170_row13_col7 {\n",
       "  text-align: left;\n",
       "}\n",
       "#T_87170_row0_col1, #T_87170_row0_col4, #T_87170_row0_col5, #T_87170_row0_col6, #T_87170_row0_col7, #T_87170_row1_col2, #T_87170_row7_col2, #T_87170_row13_col3 {\n",
       "  text-align: left;\n",
       "  background-color: yellow;\n",
       "}\n",
       "#T_87170_row0_col8, #T_87170_row1_col8, #T_87170_row2_col8, #T_87170_row3_col8, #T_87170_row4_col8, #T_87170_row5_col8, #T_87170_row6_col8, #T_87170_row7_col8, #T_87170_row8_col8, #T_87170_row9_col8, #T_87170_row10_col8, #T_87170_row11_col8, #T_87170_row13_col8 {\n",
       "  text-align: left;\n",
       "  background-color: lightgrey;\n",
       "}\n",
       "#T_87170_row12_col8 {\n",
       "  text-align: left;\n",
       "  background-color: yellow;\n",
       "  background-color: lightgrey;\n",
       "}\n",
       "</style>\n",
       "<table id=\"T_87170\">\n",
       "  <thead>\n",
       "    <tr>\n",
       "      <th class=\"blank level0\" >&nbsp;</th>\n",
       "      <th id=\"T_87170_level0_col0\" class=\"col_heading level0 col0\" >Model</th>\n",
       "      <th id=\"T_87170_level0_col1\" class=\"col_heading level0 col1\" >Accuracy</th>\n",
       "      <th id=\"T_87170_level0_col2\" class=\"col_heading level0 col2\" >AUC</th>\n",
       "      <th id=\"T_87170_level0_col3\" class=\"col_heading level0 col3\" >Recall</th>\n",
       "      <th id=\"T_87170_level0_col4\" class=\"col_heading level0 col4\" >Prec.</th>\n",
       "      <th id=\"T_87170_level0_col5\" class=\"col_heading level0 col5\" >F1</th>\n",
       "      <th id=\"T_87170_level0_col6\" class=\"col_heading level0 col6\" >Kappa</th>\n",
       "      <th id=\"T_87170_level0_col7\" class=\"col_heading level0 col7\" >MCC</th>\n",
       "      <th id=\"T_87170_level0_col8\" class=\"col_heading level0 col8\" >TT (Sec)</th>\n",
       "    </tr>\n",
       "  </thead>\n",
       "  <tbody>\n",
       "    <tr>\n",
       "      <th id=\"T_87170_level0_row0\" class=\"row_heading level0 row0\" >rf</th>\n",
       "      <td id=\"T_87170_row0_col0\" class=\"data row0 col0\" >Random Forest Classifier</td>\n",
       "      <td id=\"T_87170_row0_col1\" class=\"data row0 col1\" >0.9793</td>\n",
       "      <td id=\"T_87170_row0_col2\" class=\"data row0 col2\" >0.9953</td>\n",
       "      <td id=\"T_87170_row0_col3\" class=\"data row0 col3\" >0.9728</td>\n",
       "      <td id=\"T_87170_row0_col4\" class=\"data row0 col4\" >0.9714</td>\n",
       "      <td id=\"T_87170_row0_col5\" class=\"data row0 col5\" >0.9721</td>\n",
       "      <td id=\"T_87170_row0_col6\" class=\"data row0 col6\" >0.9556</td>\n",
       "      <td id=\"T_87170_row0_col7\" class=\"data row0 col7\" >0.9557</td>\n",
       "      <td id=\"T_87170_row0_col8\" class=\"data row0 col8\" >0.5500</td>\n",
       "    </tr>\n",
       "    <tr>\n",
       "      <th id=\"T_87170_level0_row1\" class=\"row_heading level0 row1\" >ada</th>\n",
       "      <td id=\"T_87170_row1_col0\" class=\"data row1 col0\" >Ada Boost Classifier</td>\n",
       "      <td id=\"T_87170_row1_col1\" class=\"data row1 col1\" >0.9791</td>\n",
       "      <td id=\"T_87170_row1_col2\" class=\"data row1 col2\" >0.9965</td>\n",
       "      <td id=\"T_87170_row1_col3\" class=\"data row1 col3\" >0.9725</td>\n",
       "      <td id=\"T_87170_row1_col4\" class=\"data row1 col4\" >0.9711</td>\n",
       "      <td id=\"T_87170_row1_col5\" class=\"data row1 col5\" >0.9718</td>\n",
       "      <td id=\"T_87170_row1_col6\" class=\"data row1 col6\" >0.9551</td>\n",
       "      <td id=\"T_87170_row1_col7\" class=\"data row1 col7\" >0.9552</td>\n",
       "      <td id=\"T_87170_row1_col8\" class=\"data row1 col8\" >0.6510</td>\n",
       "    </tr>\n",
       "    <tr>\n",
       "      <th id=\"T_87170_level0_row2\" class=\"row_heading level0 row2\" >et</th>\n",
       "      <td id=\"T_87170_row2_col0\" class=\"data row2 col0\" >Extra Trees Classifier</td>\n",
       "      <td id=\"T_87170_row2_col1\" class=\"data row2 col1\" >0.9789</td>\n",
       "      <td id=\"T_87170_row2_col2\" class=\"data row2 col2\" >0.9954</td>\n",
       "      <td id=\"T_87170_row2_col3\" class=\"data row2 col3\" >0.9728</td>\n",
       "      <td id=\"T_87170_row2_col4\" class=\"data row2 col4\" >0.9705</td>\n",
       "      <td id=\"T_87170_row2_col5\" class=\"data row2 col5\" >0.9716</td>\n",
       "      <td id=\"T_87170_row2_col6\" class=\"data row2 col6\" >0.9549</td>\n",
       "      <td id=\"T_87170_row2_col7\" class=\"data row2 col7\" >0.9549</td>\n",
       "      <td id=\"T_87170_row2_col8\" class=\"data row2 col8\" >0.2810</td>\n",
       "    </tr>\n",
       "    <tr>\n",
       "      <th id=\"T_87170_level0_row3\" class=\"row_heading level0 row3\" >svm</th>\n",
       "      <td id=\"T_87170_row3_col0\" class=\"data row3 col0\" >SVM - Linear Kernel</td>\n",
       "      <td id=\"T_87170_row3_col1\" class=\"data row3 col1\" >0.9788</td>\n",
       "      <td id=\"T_87170_row3_col2\" class=\"data row3 col2\" >0.0000</td>\n",
       "      <td id=\"T_87170_row3_col3\" class=\"data row3 col3\" >0.9778</td>\n",
       "      <td id=\"T_87170_row3_col4\" class=\"data row3 col4\" >0.9656</td>\n",
       "      <td id=\"T_87170_row3_col5\" class=\"data row3 col5\" >0.9716</td>\n",
       "      <td id=\"T_87170_row3_col6\" class=\"data row3 col6\" >0.9547</td>\n",
       "      <td id=\"T_87170_row3_col7\" class=\"data row3 col7\" >0.9548</td>\n",
       "      <td id=\"T_87170_row3_col8\" class=\"data row3 col8\" >0.0150</td>\n",
       "    </tr>\n",
       "    <tr>\n",
       "      <th id=\"T_87170_level0_row4\" class=\"row_heading level0 row4\" >knn</th>\n",
       "      <td id=\"T_87170_row4_col0\" class=\"data row4 col0\" >K Neighbors Classifier</td>\n",
       "      <td id=\"T_87170_row4_col1\" class=\"data row4 col1\" >0.9779</td>\n",
       "      <td id=\"T_87170_row4_col2\" class=\"data row4 col2\" >0.9890</td>\n",
       "      <td id=\"T_87170_row4_col3\" class=\"data row4 col3\" >0.9703</td>\n",
       "      <td id=\"T_87170_row4_col4\" class=\"data row4 col4\" >0.9702</td>\n",
       "      <td id=\"T_87170_row4_col5\" class=\"data row4 col5\" >0.9702</td>\n",
       "      <td id=\"T_87170_row4_col6\" class=\"data row4 col6\" >0.9526</td>\n",
       "      <td id=\"T_87170_row4_col7\" class=\"data row4 col7\" >0.9527</td>\n",
       "      <td id=\"T_87170_row4_col8\" class=\"data row4 col8\" >0.2910</td>\n",
       "    </tr>\n",
       "    <tr>\n",
       "      <th id=\"T_87170_level0_row5\" class=\"row_heading level0 row5\" >lr</th>\n",
       "      <td id=\"T_87170_row5_col0\" class=\"data row5 col0\" >Logistic Regression</td>\n",
       "      <td id=\"T_87170_row5_col1\" class=\"data row5 col1\" >0.9778</td>\n",
       "      <td id=\"T_87170_row5_col2\" class=\"data row5 col2\" >0.9962</td>\n",
       "      <td id=\"T_87170_row5_col3\" class=\"data row5 col3\" >0.9760</td>\n",
       "      <td id=\"T_87170_row5_col4\" class=\"data row5 col4\" >0.9646</td>\n",
       "      <td id=\"T_87170_row5_col5\" class=\"data row5 col5\" >0.9702</td>\n",
       "      <td id=\"T_87170_row5_col6\" class=\"data row5 col6\" >0.9525</td>\n",
       "      <td id=\"T_87170_row5_col7\" class=\"data row5 col7\" >0.9526</td>\n",
       "      <td id=\"T_87170_row5_col8\" class=\"data row5 col8\" >0.0190</td>\n",
       "    </tr>\n",
       "    <tr>\n",
       "      <th id=\"T_87170_level0_row6\" class=\"row_heading level0 row6\" >gbc</th>\n",
       "      <td id=\"T_87170_row6_col0\" class=\"data row6 col0\" >Gradient Boosting Classifier</td>\n",
       "      <td id=\"T_87170_row6_col1\" class=\"data row6 col1\" >0.9778</td>\n",
       "      <td id=\"T_87170_row6_col2\" class=\"data row6 col2\" >0.9963</td>\n",
       "      <td id=\"T_87170_row6_col3\" class=\"data row6 col3\" >0.9691</td>\n",
       "      <td id=\"T_87170_row6_col4\" class=\"data row6 col4\" >0.9710</td>\n",
       "      <td id=\"T_87170_row6_col5\" class=\"data row6 col5\" >0.9700</td>\n",
       "      <td id=\"T_87170_row6_col6\" class=\"data row6 col6\" >0.9523</td>\n",
       "      <td id=\"T_87170_row6_col7\" class=\"data row6 col7\" >0.9524</td>\n",
       "      <td id=\"T_87170_row6_col8\" class=\"data row6 col8\" >2.9720</td>\n",
       "    </tr>\n",
       "    <tr>\n",
       "      <th id=\"T_87170_level0_row7\" class=\"row_heading level0 row7\" >lightgbm</th>\n",
       "      <td id=\"T_87170_row7_col0\" class=\"data row7 col0\" >Light Gradient Boosting Machine</td>\n",
       "      <td id=\"T_87170_row7_col1\" class=\"data row7 col1\" >0.9772</td>\n",
       "      <td id=\"T_87170_row7_col2\" class=\"data row7 col2\" >0.9965</td>\n",
       "      <td id=\"T_87170_row7_col3\" class=\"data row7 col3\" >0.9716</td>\n",
       "      <td id=\"T_87170_row7_col4\" class=\"data row7 col4\" >0.9671</td>\n",
       "      <td id=\"T_87170_row7_col5\" class=\"data row7 col5\" >0.9693</td>\n",
       "      <td id=\"T_87170_row7_col6\" class=\"data row7 col6\" >0.9512</td>\n",
       "      <td id=\"T_87170_row7_col7\" class=\"data row7 col7\" >0.9512</td>\n",
       "      <td id=\"T_87170_row7_col8\" class=\"data row7 col8\" >1.2840</td>\n",
       "    </tr>\n",
       "    <tr>\n",
       "      <th id=\"T_87170_level0_row8\" class=\"row_heading level0 row8\" >lda</th>\n",
       "      <td id=\"T_87170_row8_col0\" class=\"data row8 col0\" >Linear Discriminant Analysis</td>\n",
       "      <td id=\"T_87170_row8_col1\" class=\"data row8 col1\" >0.9704</td>\n",
       "      <td id=\"T_87170_row8_col2\" class=\"data row8 col2\" >0.9931</td>\n",
       "      <td id=\"T_87170_row8_col3\" class=\"data row8 col3\" >0.9703</td>\n",
       "      <td id=\"T_87170_row8_col4\" class=\"data row8 col4\" >0.9510</td>\n",
       "      <td id=\"T_87170_row8_col5\" class=\"data row8 col5\" >0.9605</td>\n",
       "      <td id=\"T_87170_row8_col6\" class=\"data row8 col6\" >0.9368</td>\n",
       "      <td id=\"T_87170_row8_col7\" class=\"data row8 col7\" >0.9370</td>\n",
       "      <td id=\"T_87170_row8_col8\" class=\"data row8 col8\" >0.0380</td>\n",
       "    </tr>\n",
       "    <tr>\n",
       "      <th id=\"T_87170_level0_row9\" class=\"row_heading level0 row9\" >dt</th>\n",
       "      <td id=\"T_87170_row9_col0\" class=\"data row9 col0\" >Decision Tree Classifier</td>\n",
       "      <td id=\"T_87170_row9_col1\" class=\"data row9 col1\" >0.9669</td>\n",
       "      <td id=\"T_87170_row9_col2\" class=\"data row9 col2\" >0.9645</td>\n",
       "      <td id=\"T_87170_row9_col3\" class=\"data row9 col3\" >0.9554</td>\n",
       "      <td id=\"T_87170_row9_col4\" class=\"data row9 col4\" >0.9555</td>\n",
       "      <td id=\"T_87170_row9_col5\" class=\"data row9 col5\" >0.9553</td>\n",
       "      <td id=\"T_87170_row9_col6\" class=\"data row9 col6\" >0.9290</td>\n",
       "      <td id=\"T_87170_row9_col7\" class=\"data row9 col7\" >0.9292</td>\n",
       "      <td id=\"T_87170_row9_col8\" class=\"data row9 col8\" >0.0960</td>\n",
       "    </tr>\n",
       "    <tr>\n",
       "      <th id=\"T_87170_level0_row10\" class=\"row_heading level0 row10\" >ridge</th>\n",
       "      <td id=\"T_87170_row10_col0\" class=\"data row10 col0\" >Ridge Classifier</td>\n",
       "      <td id=\"T_87170_row10_col1\" class=\"data row10 col1\" >0.9656</td>\n",
       "      <td id=\"T_87170_row10_col2\" class=\"data row10 col2\" >0.0000</td>\n",
       "      <td id=\"T_87170_row10_col3\" class=\"data row10 col3\" >0.9625</td>\n",
       "      <td id=\"T_87170_row10_col4\" class=\"data row10 col4\" >0.9460</td>\n",
       "      <td id=\"T_87170_row10_col5\" class=\"data row10 col5\" >0.9541</td>\n",
       "      <td id=\"T_87170_row10_col6\" class=\"data row10 col6\" >0.9266</td>\n",
       "      <td id=\"T_87170_row10_col7\" class=\"data row10 col7\" >0.9268</td>\n",
       "      <td id=\"T_87170_row10_col8\" class=\"data row10 col8\" >0.0110</td>\n",
       "    </tr>\n",
       "    <tr>\n",
       "      <th id=\"T_87170_level0_row11\" class=\"row_heading level0 row11\" >nb</th>\n",
       "      <td id=\"T_87170_row11_col0\" class=\"data row11 col0\" >Naive Bayes</td>\n",
       "      <td id=\"T_87170_row11_col1\" class=\"data row11 col1\" >0.9508</td>\n",
       "      <td id=\"T_87170_row11_col2\" class=\"data row11 col2\" >0.9856</td>\n",
       "      <td id=\"T_87170_row11_col3\" class=\"data row11 col3\" >0.9844</td>\n",
       "      <td id=\"T_87170_row11_col4\" class=\"data row11 col4\" >0.8941</td>\n",
       "      <td id=\"T_87170_row11_col5\" class=\"data row11 col5\" >0.9370</td>\n",
       "      <td id=\"T_87170_row11_col6\" class=\"data row11 col6\" >0.8968</td>\n",
       "      <td id=\"T_87170_row11_col7\" class=\"data row11 col7\" >0.8997</td>\n",
       "      <td id=\"T_87170_row11_col8\" class=\"data row11 col8\" >0.0110</td>\n",
       "    </tr>\n",
       "    <tr>\n",
       "      <th id=\"T_87170_level0_row12\" class=\"row_heading level0 row12\" >dummy</th>\n",
       "      <td id=\"T_87170_row12_col0\" class=\"data row12 col0\" >Dummy Classifier</td>\n",
       "      <td id=\"T_87170_row12_col1\" class=\"data row12 col1\" >0.6293</td>\n",
       "      <td id=\"T_87170_row12_col2\" class=\"data row12 col2\" >0.5000</td>\n",
       "      <td id=\"T_87170_row12_col3\" class=\"data row12 col3\" >0.0000</td>\n",
       "      <td id=\"T_87170_row12_col4\" class=\"data row12 col4\" >0.0000</td>\n",
       "      <td id=\"T_87170_row12_col5\" class=\"data row12 col5\" >0.0000</td>\n",
       "      <td id=\"T_87170_row12_col6\" class=\"data row12 col6\" >0.0000</td>\n",
       "      <td id=\"T_87170_row12_col7\" class=\"data row12 col7\" >0.0000</td>\n",
       "      <td id=\"T_87170_row12_col8\" class=\"data row12 col8\" >0.0070</td>\n",
       "    </tr>\n",
       "    <tr>\n",
       "      <th id=\"T_87170_level0_row13\" class=\"row_heading level0 row13\" >qda</th>\n",
       "      <td id=\"T_87170_row13_col0\" class=\"data row13 col0\" >Quadratic Discriminant Analysis</td>\n",
       "      <td id=\"T_87170_row13_col1\" class=\"data row13 col1\" >0.5851</td>\n",
       "      <td id=\"T_87170_row13_col2\" class=\"data row13 col2\" >0.7149</td>\n",
       "      <td id=\"T_87170_row13_col3\" class=\"data row13 col3\" >0.9891</td>\n",
       "      <td id=\"T_87170_row13_col4\" class=\"data row13 col4\" >0.4736</td>\n",
       "      <td id=\"T_87170_row13_col5\" class=\"data row13 col5\" >0.6399</td>\n",
       "      <td id=\"T_87170_row13_col6\" class=\"data row13 col6\" >0.2759</td>\n",
       "      <td id=\"T_87170_row13_col7\" class=\"data row13 col7\" >0.3901</td>\n",
       "      <td id=\"T_87170_row13_col8\" class=\"data row13 col8\" >0.0170</td>\n",
       "    </tr>\n",
       "  </tbody>\n",
       "</table>\n"
      ],
      "text/plain": [
       "<pandas.io.formats.style.Styler at 0x23316ae8820>"
      ]
     },
     "metadata": {},
     "output_type": "display_data"
    },
    {
     "data": {
      "application/vnd.jupyter.widget-view+json": {
       "model_id": "",
       "version_major": 2,
       "version_minor": 0
      },
      "text/plain": [
       "Processing:   0%|          | 0/61 [00:00<?, ?it/s]"
      ]
     },
     "metadata": {},
     "output_type": "display_data"
    }
   ],
   "source": [
    "best_model = compare_models(sort=\"Accuracy\")"
   ]
  },
  {
   "cell_type": "code",
   "execution_count": 17,
   "id": "5c42ddd5",
   "metadata": {},
   "outputs": [
    {
     "data": {
      "text/html": [
       "<style type=\"text/css\">\n",
       "</style>\n",
       "<table id=\"T_ddac4\">\n",
       "  <thead>\n",
       "    <tr>\n",
       "      <th class=\"blank level0\" >&nbsp;</th>\n",
       "      <th id=\"T_ddac4_level0_col0\" class=\"col_heading level0 col0\" >Model</th>\n",
       "      <th id=\"T_ddac4_level0_col1\" class=\"col_heading level0 col1\" >Accuracy</th>\n",
       "      <th id=\"T_ddac4_level0_col2\" class=\"col_heading level0 col2\" >AUC</th>\n",
       "      <th id=\"T_ddac4_level0_col3\" class=\"col_heading level0 col3\" >Recall</th>\n",
       "      <th id=\"T_ddac4_level0_col4\" class=\"col_heading level0 col4\" >Prec.</th>\n",
       "      <th id=\"T_ddac4_level0_col5\" class=\"col_heading level0 col5\" >F1</th>\n",
       "      <th id=\"T_ddac4_level0_col6\" class=\"col_heading level0 col6\" >Kappa</th>\n",
       "      <th id=\"T_ddac4_level0_col7\" class=\"col_heading level0 col7\" >MCC</th>\n",
       "    </tr>\n",
       "  </thead>\n",
       "  <tbody>\n",
       "    <tr>\n",
       "      <th id=\"T_ddac4_level0_row0\" class=\"row_heading level0 row0\" >0</th>\n",
       "      <td id=\"T_ddac4_row0_col0\" class=\"data row0 col0\" >Random Forest Classifier</td>\n",
       "      <td id=\"T_ddac4_row0_col1\" class=\"data row0 col1\" >0.9491</td>\n",
       "      <td id=\"T_ddac4_row0_col2\" class=\"data row0 col2\" >0.9778</td>\n",
       "      <td id=\"T_ddac4_row0_col3\" class=\"data row0 col3\" >0.9234</td>\n",
       "      <td id=\"T_ddac4_row0_col4\" class=\"data row0 col4\" >0.9308</td>\n",
       "      <td id=\"T_ddac4_row0_col5\" class=\"data row0 col5\" >0.9271</td>\n",
       "      <td id=\"T_ddac4_row0_col6\" class=\"data row0 col6\" >0.8879</td>\n",
       "      <td id=\"T_ddac4_row0_col7\" class=\"data row0 col7\" >0.8880</td>\n",
       "    </tr>\n",
       "  </tbody>\n",
       "</table>\n"
      ],
      "text/plain": [
       "<pandas.io.formats.style.Styler at 0x2331c03e0a0>"
      ]
     },
     "metadata": {},
     "output_type": "display_data"
    }
   ],
   "source": [
    "holdout_preds = predict_model(best_model)"
   ]
  },
  {
   "cell_type": "markdown",
   "id": "d5380325",
   "metadata": {},
   "source": [
    "## Models Serialization\n",
    "Serializing feature extraction as well as ml classification models."
   ]
  },
  {
   "cell_type": "code",
   "execution_count": 18,
   "id": "27bacd52",
   "metadata": {},
   "outputs": [],
   "source": [
    "# best feature extraction icnn model\n",
    "best_feature_extractor.save(\n",
    "    os.path.join(\"..\",\"..\", \"models\", \"updatedInception\", \"20_electrodes_2_classes_best_feature_extractor\"),\n",
    "    overwrite=True,\n",
    "    include_optimizer=True,\n",
    "    save_format=\"h5\",\n",
    ")"
   ]
  },
  {
   "cell_type": "markdown",
   "id": "b6b8451f",
   "metadata": {},
   "source": [
    "## Data Serialization\n",
    "Serializing the processed train and holdout validation sets."
   ]
  },
  {
   "cell_type": "code",
   "execution_count": 19,
   "id": "e4ea49a2",
   "metadata": {},
   "outputs": [],
   "source": [
    "train_features_df.to_csv(os.path.join(\"..\",\"..\", \"data\", \"finalized\",\"updatedInception\", \"20_electrodes_2_classes_train_df.csv\"), index=False)\n",
    "holdout_features_df.to_csv(os.path.join(\"..\",\"..\", \"data\", \"finalized\",\"updatedInception\", \"20_electrodes_2_classes_holdout_df.csv\"), index=False)"
   ]
  },
  {
   "cell_type": "markdown",
   "id": "25db9c28",
   "metadata": {},
   "source": [
    "## Ploting model\n",
    "\n"
   ]
  },
  {
   "cell_type": "markdown",
   "id": "3f3f24f1",
   "metadata": {},
   "source": [
    "ploting the learning curve:"
   ]
  },
  {
   "cell_type": "code",
   "execution_count": 20,
   "id": "6deb8e0a",
   "metadata": {
    "scrolled": true
   },
   "outputs": [
    {
     "data": {
      "text/html": [],
      "text/plain": [
       "<IPython.core.display.HTML object>"
      ]
     },
     "metadata": {},
     "output_type": "display_data"
    },
    {
     "data": {
      "image/png": "[encoded data removed]",
      "text/plain": [
       "<Figure size 800x550 with 1 Axes>"
      ]
     },
     "metadata": {},
     "output_type": "display_data"
    }
   ],
   "source": [
    "plot_model(\n",
    "    best_model, \n",
    "    plot = 'learning'\n",
    ")"
   ]
  },
  {
   "cell_type": "code",
   "execution_count": 21,
   "id": "ad4da2b9",
   "metadata": {
    "scrolled": true
   },
   "outputs": [
    {
     "data": {
      "text/html": [],
      "text/plain": [
       "<IPython.core.display.HTML object>"
      ]
     },
     "metadata": {},
     "output_type": "display_data"
    },
    {
     "data": {
      "image/png": "[encoded data removed]",
      "text/plain": [
       "<Figure size 800x550 with 1 Axes>"
      ]
     },
     "metadata": {},
     "output_type": "display_data"
    }
   ],
   "source": [
    "plot_model(\n",
    "    best_model, \n",
    "    plot = 'confusion_matrix'\n",
    ")"
   ]
  },
  {
   "cell_type": "code",
   "execution_count": 22,
   "id": "a521f925",
   "metadata": {
    "scrolled": true
   },
   "outputs": [
    {
     "data": {
      "text/html": [],
      "text/plain": [
       "<IPython.core.display.HTML object>"
      ]
     },
     "metadata": {},
     "output_type": "display_data"
    },
    {
     "data": {
      "image/png": "[encoded data removed]",
      "text/plain": [
       "<Figure size 800x550 with 1 Axes>"
      ]
     },
     "metadata": {},
     "output_type": "display_data"
    }
   ],
   "source": [
    "plot_model(\n",
    "    best_model, \n",
    "    plot = 'boundary'\n",
    ")"
   ]
  },
  {
   "cell_type": "code",
   "execution_count": 23,
   "id": "d0c8ab25",
   "metadata": {},
   "outputs": [
    {
     "data": {
      "text/html": [],
      "text/plain": [
       "<IPython.core.display.HTML object>"
      ]
     },
     "metadata": {},
     "output_type": "display_data"
    },
    {
     "data": {
      "image/png": "[encoded data removed]",
      "text/plain": [
       "<Figure size 800x550 with 1 Axes>"
      ]
     },
     "metadata": {},
     "output_type": "display_data"
    }
   ],
   "source": [
    "plot_model(\n",
    "    best_model, \n",
    "    plot = 'auc', \n",
    "    use_train_data = False\n",
    ")"
   ]
  },
  {
   "cell_type": "code",
   "execution_count": 24,
   "id": "6cba53bb",
   "metadata": {},
   "outputs": [
    {
     "data": {
      "text/html": [],
      "text/plain": [
       "<IPython.core.display.HTML object>"
      ]
     },
     "metadata": {},
     "output_type": "display_data"
    },
    {
     "data": {
      "image/png": "[encoded data removed]",
      "text/plain": [
       "<Figure size 800x550 with 2 Axes>"
      ]
     },
     "metadata": {},
     "output_type": "display_data"
    }
   ],
   "source": [
    "plot_model(\n",
    "    best_model, \n",
    "    plot = 'class_report', \n",
    ")"
   ]
  },
  {
   "cell_type": "code",
   "execution_count": null,
   "id": "235bdbeb",
   "metadata": {},
   "outputs": [],
   "source": []
  }
 ],
 "metadata": {
  "kernelspec": {
   "display_name": "Python 3 (ipykernel)",
   "language": "python",
   "name": "python3"
  },
  "language_info": {
   "codemirror_mode": {
    "name": "ipython",
    "version": 3
   },
   "file_extension": ".py",
   "mimetype": "text/x-python",
   "name": "python",
   "nbconvert_exporter": "python",
   "pygments_lexer": "ipython3",
   "version": "3.9.12"
  }
 },
 "nbformat": 4,
 "nbformat_minor": 5
}
